{
  "nbformat": 4,
  "nbformat_minor": 0,
  "metadata": {
    "colab": {
      "name": "Tweets.ipynb",
      "provenance": [],
      "authorship_tag": "ABX9TyPk3Ah3eMUtCjK9SE9iGZFD",
      "include_colab_link": true
    },
    "kernelspec": {
      "name": "python3",
      "display_name": "Python 3"
    },
    "language_info": {
      "name": "python"
    },
    "accelerator": "GPU",
    "widgets": {
      "application/vnd.jupyter.widget-state+json": {
        "e7bd8e63b24c43b1b8cb24304aec1de0": {
          "model_module": "@jupyter-widgets/controls",
          "model_name": "HBoxModel",
          "model_module_version": "1.5.0",
          "state": {
            "_view_name": "HBoxView",
            "_dom_classes": [],
            "_model_name": "HBoxModel",
            "_view_module": "@jupyter-widgets/controls",
            "_model_module_version": "1.5.0",
            "_view_count": null,
            "_view_module_version": "1.5.0",
            "box_style": "",
            "layout": "IPY_MODEL_2413c5955b0b44c6b7cef090ba1f49b7",
            "_model_module": "@jupyter-widgets/controls",
            "children": [
              "IPY_MODEL_c28b1ae59bcf4f259f5db75b82302052",
              "IPY_MODEL_3316d75d16044ab98e404dc159af6855",
              "IPY_MODEL_1e68f49da7524ea186a2aa141a18279a"
            ]
          }
        },
        "2413c5955b0b44c6b7cef090ba1f49b7": {
          "model_module": "@jupyter-widgets/base",
          "model_name": "LayoutModel",
          "model_module_version": "1.2.0",
          "state": {
            "_view_name": "LayoutView",
            "grid_template_rows": null,
            "right": null,
            "justify_content": null,
            "_view_module": "@jupyter-widgets/base",
            "overflow": null,
            "_model_module_version": "1.2.0",
            "_view_count": null,
            "flex_flow": null,
            "width": null,
            "min_width": null,
            "border": null,
            "align_items": null,
            "bottom": null,
            "_model_module": "@jupyter-widgets/base",
            "top": null,
            "grid_column": null,
            "overflow_y": null,
            "overflow_x": null,
            "grid_auto_flow": null,
            "grid_area": null,
            "grid_template_columns": null,
            "flex": null,
            "_model_name": "LayoutModel",
            "justify_items": null,
            "grid_row": null,
            "max_height": null,
            "align_content": null,
            "visibility": null,
            "align_self": null,
            "height": null,
            "min_height": null,
            "padding": null,
            "grid_auto_rows": null,
            "grid_gap": null,
            "max_width": null,
            "order": null,
            "_view_module_version": "1.2.0",
            "grid_template_areas": null,
            "object_position": null,
            "object_fit": null,
            "grid_auto_columns": null,
            "margin": null,
            "display": null,
            "left": null
          }
        },
        "c28b1ae59bcf4f259f5db75b82302052": {
          "model_module": "@jupyter-widgets/controls",
          "model_name": "HTMLModel",
          "model_module_version": "1.5.0",
          "state": {
            "_view_name": "HTMLView",
            "style": "IPY_MODEL_0fb3526ab30d422094bda7b9bd26f6fd",
            "_dom_classes": [],
            "description": "",
            "_model_name": "HTMLModel",
            "placeholder": "​",
            "_view_module": "@jupyter-widgets/controls",
            "_model_module_version": "1.5.0",
            "value": "Downloading: 100%",
            "_view_count": null,
            "_view_module_version": "1.5.0",
            "description_tooltip": null,
            "_model_module": "@jupyter-widgets/controls",
            "layout": "IPY_MODEL_eb256ce3b4e64ec5a8e7df3ec130f316"
          }
        },
        "3316d75d16044ab98e404dc159af6855": {
          "model_module": "@jupyter-widgets/controls",
          "model_name": "FloatProgressModel",
          "model_module_version": "1.5.0",
          "state": {
            "_view_name": "ProgressView",
            "style": "IPY_MODEL_e18c4309edb240d7bd74dc5cc93970f0",
            "_dom_classes": [],
            "description": "",
            "_model_name": "FloatProgressModel",
            "bar_style": "success",
            "max": 1444589475,
            "_view_module": "@jupyter-widgets/controls",
            "_model_module_version": "1.5.0",
            "value": 1444589475,
            "_view_count": null,
            "_view_module_version": "1.5.0",
            "orientation": "horizontal",
            "min": 0,
            "description_tooltip": null,
            "_model_module": "@jupyter-widgets/controls",
            "layout": "IPY_MODEL_e992764ec38c49b286468ba0006c1eef"
          }
        },
        "1e68f49da7524ea186a2aa141a18279a": {
          "model_module": "@jupyter-widgets/controls",
          "model_name": "HTMLModel",
          "model_module_version": "1.5.0",
          "state": {
            "_view_name": "HTMLView",
            "style": "IPY_MODEL_16feb5b792af44e58e54545255f99e1d",
            "_dom_classes": [],
            "description": "",
            "_model_name": "HTMLModel",
            "placeholder": "​",
            "_view_module": "@jupyter-widgets/controls",
            "_model_module_version": "1.5.0",
            "value": " 1.35G/1.35G [00:45&lt;00:00, 26.3MB/s]",
            "_view_count": null,
            "_view_module_version": "1.5.0",
            "description_tooltip": null,
            "_model_module": "@jupyter-widgets/controls",
            "layout": "IPY_MODEL_65410acf76ec42bbab52efea74c47cb4"
          }
        },
        "0fb3526ab30d422094bda7b9bd26f6fd": {
          "model_module": "@jupyter-widgets/controls",
          "model_name": "DescriptionStyleModel",
          "model_module_version": "1.5.0",
          "state": {
            "_view_name": "StyleView",
            "_model_name": "DescriptionStyleModel",
            "description_width": "",
            "_view_module": "@jupyter-widgets/base",
            "_model_module_version": "1.5.0",
            "_view_count": null,
            "_view_module_version": "1.2.0",
            "_model_module": "@jupyter-widgets/controls"
          }
        },
        "eb256ce3b4e64ec5a8e7df3ec130f316": {
          "model_module": "@jupyter-widgets/base",
          "model_name": "LayoutModel",
          "model_module_version": "1.2.0",
          "state": {
            "_view_name": "LayoutView",
            "grid_template_rows": null,
            "right": null,
            "justify_content": null,
            "_view_module": "@jupyter-widgets/base",
            "overflow": null,
            "_model_module_version": "1.2.0",
            "_view_count": null,
            "flex_flow": null,
            "width": null,
            "min_width": null,
            "border": null,
            "align_items": null,
            "bottom": null,
            "_model_module": "@jupyter-widgets/base",
            "top": null,
            "grid_column": null,
            "overflow_y": null,
            "overflow_x": null,
            "grid_auto_flow": null,
            "grid_area": null,
            "grid_template_columns": null,
            "flex": null,
            "_model_name": "LayoutModel",
            "justify_items": null,
            "grid_row": null,
            "max_height": null,
            "align_content": null,
            "visibility": null,
            "align_self": null,
            "height": null,
            "min_height": null,
            "padding": null,
            "grid_auto_rows": null,
            "grid_gap": null,
            "max_width": null,
            "order": null,
            "_view_module_version": "1.2.0",
            "grid_template_areas": null,
            "object_position": null,
            "object_fit": null,
            "grid_auto_columns": null,
            "margin": null,
            "display": null,
            "left": null
          }
        },
        "e18c4309edb240d7bd74dc5cc93970f0": {
          "model_module": "@jupyter-widgets/controls",
          "model_name": "ProgressStyleModel",
          "model_module_version": "1.5.0",
          "state": {
            "_view_name": "StyleView",
            "_model_name": "ProgressStyleModel",
            "description_width": "",
            "_view_module": "@jupyter-widgets/base",
            "_model_module_version": "1.5.0",
            "_view_count": null,
            "_view_module_version": "1.2.0",
            "bar_color": null,
            "_model_module": "@jupyter-widgets/controls"
          }
        },
        "e992764ec38c49b286468ba0006c1eef": {
          "model_module": "@jupyter-widgets/base",
          "model_name": "LayoutModel",
          "model_module_version": "1.2.0",
          "state": {
            "_view_name": "LayoutView",
            "grid_template_rows": null,
            "right": null,
            "justify_content": null,
            "_view_module": "@jupyter-widgets/base",
            "overflow": null,
            "_model_module_version": "1.2.0",
            "_view_count": null,
            "flex_flow": null,
            "width": null,
            "min_width": null,
            "border": null,
            "align_items": null,
            "bottom": null,
            "_model_module": "@jupyter-widgets/base",
            "top": null,
            "grid_column": null,
            "overflow_y": null,
            "overflow_x": null,
            "grid_auto_flow": null,
            "grid_area": null,
            "grid_template_columns": null,
            "flex": null,
            "_model_name": "LayoutModel",
            "justify_items": null,
            "grid_row": null,
            "max_height": null,
            "align_content": null,
            "visibility": null,
            "align_self": null,
            "height": null,
            "min_height": null,
            "padding": null,
            "grid_auto_rows": null,
            "grid_gap": null,
            "max_width": null,
            "order": null,
            "_view_module_version": "1.2.0",
            "grid_template_areas": null,
            "object_position": null,
            "object_fit": null,
            "grid_auto_columns": null,
            "margin": null,
            "display": null,
            "left": null
          }
        },
        "16feb5b792af44e58e54545255f99e1d": {
          "model_module": "@jupyter-widgets/controls",
          "model_name": "DescriptionStyleModel",
          "model_module_version": "1.5.0",
          "state": {
            "_view_name": "StyleView",
            "_model_name": "DescriptionStyleModel",
            "description_width": "",
            "_view_module": "@jupyter-widgets/base",
            "_model_module_version": "1.5.0",
            "_view_count": null,
            "_view_module_version": "1.2.0",
            "_model_module": "@jupyter-widgets/controls"
          }
        },
        "65410acf76ec42bbab52efea74c47cb4": {
          "model_module": "@jupyter-widgets/base",
          "model_name": "LayoutModel",
          "model_module_version": "1.2.0",
          "state": {
            "_view_name": "LayoutView",
            "grid_template_rows": null,
            "right": null,
            "justify_content": null,
            "_view_module": "@jupyter-widgets/base",
            "overflow": null,
            "_model_module_version": "1.2.0",
            "_view_count": null,
            "flex_flow": null,
            "width": null,
            "min_width": null,
            "border": null,
            "align_items": null,
            "bottom": null,
            "_model_module": "@jupyter-widgets/base",
            "top": null,
            "grid_column": null,
            "overflow_y": null,
            "overflow_x": null,
            "grid_auto_flow": null,
            "grid_area": null,
            "grid_template_columns": null,
            "flex": null,
            "_model_name": "LayoutModel",
            "justify_items": null,
            "grid_row": null,
            "max_height": null,
            "align_content": null,
            "visibility": null,
            "align_self": null,
            "height": null,
            "min_height": null,
            "padding": null,
            "grid_auto_rows": null,
            "grid_gap": null,
            "max_width": null,
            "order": null,
            "_view_module_version": "1.2.0",
            "grid_template_areas": null,
            "object_position": null,
            "object_fit": null,
            "grid_auto_columns": null,
            "margin": null,
            "display": null,
            "left": null
          }
        }
      }
    }
  },
  "cells": [
    {
      "cell_type": "markdown",
      "metadata": {
        "id": "view-in-github",
        "colab_type": "text"
      },
      "source": [
        "<a href=\"https://colab.research.google.com/github/HadiAskari/TwitterInterventionBot/blob/main/Initial_Tweets.ipynb\" target=\"_parent\"><img src=\"https://colab.research.google.com/assets/colab-badge.svg\" alt=\"Open In Colab\"/></a>"
      ]
    },
    {
      "cell_type": "code",
      "source": [
        "pip install transformers"
      ],
      "metadata": {
        "colab": {
          "base_uri": "https://localhost:8080/"
        },
        "id": "XKFH_Dykm8IO",
        "outputId": "814a53d3-8bef-4ecd-9d39-fd68ff05cf79"
      },
      "execution_count": 4,
      "outputs": [
        {
          "output_type": "stream",
          "name": "stdout",
          "text": [
            "Requirement already satisfied: transformers in /usr/local/lib/python3.7/dist-packages (4.15.0)\n",
            "Requirement already satisfied: filelock in /usr/local/lib/python3.7/dist-packages (from transformers) (3.4.2)\n",
            "Requirement already satisfied: huggingface-hub<1.0,>=0.1.0 in /usr/local/lib/python3.7/dist-packages (from transformers) (0.4.0)\n",
            "Requirement already satisfied: tokenizers<0.11,>=0.10.1 in /usr/local/lib/python3.7/dist-packages (from transformers) (0.10.3)\n",
            "Requirement already satisfied: tqdm>=4.27 in /usr/local/lib/python3.7/dist-packages (from transformers) (4.62.3)\n",
            "Requirement already satisfied: pyyaml>=5.1 in /usr/local/lib/python3.7/dist-packages (from transformers) (6.0)\n",
            "Requirement already satisfied: regex!=2019.12.17 in /usr/local/lib/python3.7/dist-packages (from transformers) (2019.12.20)\n",
            "Requirement already satisfied: requests in /usr/local/lib/python3.7/dist-packages (from transformers) (2.23.0)\n",
            "Requirement already satisfied: packaging>=20.0 in /usr/local/lib/python3.7/dist-packages (from transformers) (21.3)\n",
            "Requirement already satisfied: sacremoses in /usr/local/lib/python3.7/dist-packages (from transformers) (0.0.47)\n",
            "Requirement already satisfied: importlib-metadata in /usr/local/lib/python3.7/dist-packages (from transformers) (4.10.0)\n",
            "Requirement already satisfied: numpy>=1.17 in /usr/local/lib/python3.7/dist-packages (from transformers) (1.19.5)\n",
            "Requirement already satisfied: typing-extensions>=3.7.4.3 in /usr/local/lib/python3.7/dist-packages (from huggingface-hub<1.0,>=0.1.0->transformers) (3.10.0.2)\n",
            "Requirement already satisfied: pyparsing!=3.0.5,>=2.0.2 in /usr/local/lib/python3.7/dist-packages (from packaging>=20.0->transformers) (3.0.6)\n",
            "Requirement already satisfied: zipp>=0.5 in /usr/local/lib/python3.7/dist-packages (from importlib-metadata->transformers) (3.7.0)\n",
            "Requirement already satisfied: chardet<4,>=3.0.2 in /usr/local/lib/python3.7/dist-packages (from requests->transformers) (3.0.4)\n",
            "Requirement already satisfied: certifi>=2017.4.17 in /usr/local/lib/python3.7/dist-packages (from requests->transformers) (2021.10.8)\n",
            "Requirement already satisfied: urllib3!=1.25.0,!=1.25.1,<1.26,>=1.21.1 in /usr/local/lib/python3.7/dist-packages (from requests->transformers) (1.24.3)\n",
            "Requirement already satisfied: idna<3,>=2.5 in /usr/local/lib/python3.7/dist-packages (from requests->transformers) (2.10)\n",
            "Requirement already satisfied: joblib in /usr/local/lib/python3.7/dist-packages (from sacremoses->transformers) (1.1.0)\n",
            "Requirement already satisfied: six in /usr/local/lib/python3.7/dist-packages (from sacremoses->transformers) (1.15.0)\n",
            "Requirement already satisfied: click in /usr/local/lib/python3.7/dist-packages (from sacremoses->transformers) (7.1.2)\n"
          ]
        }
      ]
    },
    {
      "cell_type": "code",
      "execution_count": 5,
      "metadata": {
        "id": "abFg7Be1uDN0"
      },
      "outputs": [],
      "source": [
        "# For sending GET requests from the API\n",
        "import requests\n",
        "# For saving access tokens and for file management when creating and adding to the dataset\n",
        "import os\n",
        "# For dealing with json responses we receive from the API\n",
        "import json\n",
        "# For displaying the data after\n",
        "import pandas as pd\n",
        "# For saving the response data in CSV format\n",
        "import csv\n",
        "# For parsing the dates received from twitter in readable formats\n",
        "import datetime\n",
        "import dateutil.parser\n",
        "import unicodedata\n",
        "#To add wait time between requests\n",
        "import time\n",
        "\n",
        "import transformers\n",
        "\n",
        "import tensorflow as tf\n",
        "\n"
      ]
    },
    {
      "cell_type": "code",
      "source": [
        "from google.colab import drive\n",
        "\n",
        "drive.mount('/content/gdrive')\n",
        "\n"
      ],
      "metadata": {
        "colab": {
          "base_uri": "https://localhost:8080/"
        },
        "id": "bm8GEWs_YggE",
        "outputId": "02581d79-6fbf-498c-9086-a7356df19387"
      },
      "execution_count": 6,
      "outputs": [
        {
          "output_type": "stream",
          "name": "stdout",
          "text": [
            "Drive already mounted at /content/gdrive; to attempt to forcibly remount, call drive.mount(\"/content/gdrive\", force_remount=True).\n"
          ]
        }
      ]
    },
    {
      "cell_type": "code",
      "source": [
        "cd \n"
      ],
      "metadata": {
        "colab": {
          "base_uri": "https://localhost:8080/"
        },
        "id": "5ooUejIxZUkF",
        "outputId": "99e23bcb-b547-45d1-ff83-a46f67483791"
      },
      "execution_count": 7,
      "outputs": [
        {
          "output_type": "stream",
          "name": "stdout",
          "text": [
            "/root\n"
          ]
        }
      ]
    },
    {
      "cell_type": "code",
      "source": [
        "df=pd.read_csv('/content/gdrive/My Drive/TweetIDs.csv')"
      ],
      "metadata": {
        "id": "jqurpsBqY4iZ"
      },
      "execution_count": 8,
      "outputs": []
    },
    {
      "cell_type": "code",
      "source": [
        "lis=[]\n",
        "for i in df.iteritems():\n",
        "  print(i[0])\n",
        "  lis.append(i[0])"
      ],
      "metadata": {
        "colab": {
          "base_uri": "https://localhost:8080/"
        },
        "id": "mjq8xzZYaYyy",
        "outputId": "45d09bef-b9b2-4c43-db96-dd3fdef2c344"
      },
      "execution_count": 9,
      "outputs": [
        {
          "output_type": "stream",
          "name": "stdout",
          "text": [
            "1481126665971400704\n",
            "1480850885429411842\n",
            "1481024521570340868\n",
            "1481126568151846913\n",
            "1481126579208015875\n",
            "1481051193942200322\n",
            "1480936334592286727\n",
            "1481126456482996226\n",
            "1480929190560079880\n",
            "1481126439416123393\n",
            "1481126382339952642\n",
            "1481126368347840513\n",
            "1481131264061374464\n",
            "1481131052139958272\n",
            "1481131608954609664\n",
            "1480921362143367186\n",
            "1481132125537644544\n",
            "1481129822164340737\n",
            "1481133600003133440\n",
            "1481129368038502400\n",
            "1481131427278331904\n",
            "1481132852515328003\n",
            "1481132839148138496\n",
            "1480874739065253888\n",
            "1480083308734210053\n",
            "1480941173510393856\n",
            "1480891358231638019\n",
            "1481003750726717441\n",
            "1480998191432716296\n",
            "1479336805535301633\n",
            "1480490611417382912\n",
            "1481134243023814658\n",
            "1477943062060019713\n",
            "1480864400525316098\n",
            "1480542016689741824\n",
            "1388853280193892353\n",
            "1480827365227855872\n",
            "1480487469795528704\n",
            "1481096575011409926\n",
            "1479778225324654592\n",
            "1481131001367896065\n",
            "1481136229924339715\n",
            "1481136800731123716\n",
            "1480807968396361731\n",
            "1479716597392547843\n",
            "1480445576940437504\n",
            "1475058811073355777\n",
            "1481134997239365633\n",
            "1480964763526090760\n",
            "1479707023402942465\n",
            "1481097652779438081\n",
            "1481134749972598785\n",
            "1481133392188088320\n",
            "1481133354938368001\n",
            "1480610993826787329\n",
            "1481136500180144132\n",
            "1480973872002383873\n",
            "1481136270386806786\n",
            "1481136860705755139\n",
            "1480779506256338949\n",
            "1480879665560567810\n",
            "1481136925214130176\n",
            "1425631693378097167\n",
            "1481064021830815745\n",
            "1481054402173878275\n",
            "1480993892036231172\n",
            "1481033810359820292\n",
            "1480446473405874178\n",
            "1480992768356925440\n",
            "1480747616061116416\n",
            "1480831338219737094\n",
            "1480005484199309312\n",
            "1480832890942414848\n",
            "1481040388345454594\n",
            "1481031653585686530\n",
            "1481106413241909251\n",
            "1481021798741336076\n",
            "1480872118921285634\n",
            "1481028305017094144\n",
            "1481016663369781256\n",
            "1385815841531383810\n",
            "1481088182649249797\n",
            "1480967173166276608\n",
            "1481014442888413184\n",
            "1479824871169343490\n",
            "1481101828247162886\n",
            "1481130300294205440\n",
            "1481092276567027713\n",
            "1481100443547799560\n",
            "1481097711235780611\n",
            "1480631041119432709\n",
            "1480991609118359552\n",
            "1481038713631096834\n"
          ]
        }
      ]
    },
    {
      "cell_type": "code",
      "source": [
        "print(lis)"
      ],
      "metadata": {
        "colab": {
          "base_uri": "https://localhost:8080/"
        },
        "id": "xNOXiT9EbpRd",
        "outputId": "dedfc31a-7c3a-4877-d4ea-5dbeff99a623"
      },
      "execution_count": 10,
      "outputs": [
        {
          "output_type": "stream",
          "name": "stdout",
          "text": [
            "['1481126665971400704', '1480850885429411842', '1481024521570340868', '1481126568151846913', '1481126579208015875', '1481051193942200322', '1480936334592286727', '1481126456482996226', '1480929190560079880', '1481126439416123393', '1481126382339952642', '1481126368347840513', '1481131264061374464', '1481131052139958272', '1481131608954609664', '1480921362143367186', '1481132125537644544', '1481129822164340737', '1481133600003133440', '1481129368038502400', '1481131427278331904', '1481132852515328003', '1481132839148138496', '1480874739065253888', '1480083308734210053', '1480941173510393856', '1480891358231638019', '1481003750726717441', '1480998191432716296', '1479336805535301633', '1480490611417382912', '1481134243023814658', '1477943062060019713', '1480864400525316098', '1480542016689741824', '1388853280193892353', '1480827365227855872', '1480487469795528704', '1481096575011409926', '1479778225324654592', '1481131001367896065', '1481136229924339715', '1481136800731123716', '1480807968396361731', '1479716597392547843', '1480445576940437504', '1475058811073355777', '1481134997239365633', '1480964763526090760', '1479707023402942465', '1481097652779438081', '1481134749972598785', '1481133392188088320', '1481133354938368001', '1480610993826787329', '1481136500180144132', '1480973872002383873', '1481136270386806786', '1481136860705755139', '1480779506256338949', '1480879665560567810', '1481136925214130176', '1425631693378097167', '1481064021830815745', '1481054402173878275', '1480993892036231172', '1481033810359820292', '1480446473405874178', '1480992768356925440', '1480747616061116416', '1480831338219737094', '1480005484199309312', '1480832890942414848', '1481040388345454594', '1481031653585686530', '1481106413241909251', '1481021798741336076', '1480872118921285634', '1481028305017094144', '1481016663369781256', '1385815841531383810', '1481088182649249797', '1480967173166276608', '1481014442888413184', '1479824871169343490', '1481101828247162886', '1481130300294205440', '1481092276567027713', '1481100443547799560', '1481097711235780611', '1480631041119432709', '1480991609118359552', '1481038713631096834']\n"
          ]
        }
      ]
    },
    {
      "cell_type": "code",
      "source": [
        "from transformers import GPT2Model, TFGPT2LMHeadModel, GPT2Tokenizer\n",
        "\n",
        "tokenizer = GPT2Tokenizer.from_pretrained(\"gpt2\")\n",
        "\n",
        "# add the EOS token as PAD token to avoid warnings\n",
        "model = TFGPT2LMHeadModel.from_pretrained(\"gpt2\", pad_token_id=tokenizer.eos_token_id)\n",
        "\n",
        "# from transformers import AutoTokenizer, AutoModelForCausalLM\n",
        "\n",
        "# tokenizer = AutoTokenizer.from_pretrained(\"ktrapeznikov/gpt2-medium-topic-news\")\n",
        "\n",
        "# model = AutoModelForCausalLM.from_pretrained(\"ktrapeznikov/gpt2-medium-topic-news\")"
      ],
      "metadata": {
        "colab": {
          "base_uri": "https://localhost:8080/",
          "height": 49,
          "referenced_widgets": [
            "e7bd8e63b24c43b1b8cb24304aec1de0",
            "2413c5955b0b44c6b7cef090ba1f49b7",
            "c28b1ae59bcf4f259f5db75b82302052",
            "3316d75d16044ab98e404dc159af6855",
            "1e68f49da7524ea186a2aa141a18279a",
            "0fb3526ab30d422094bda7b9bd26f6fd",
            "eb256ce3b4e64ec5a8e7df3ec130f316",
            "e18c4309edb240d7bd74dc5cc93970f0",
            "e992764ec38c49b286468ba0006c1eef",
            "16feb5b792af44e58e54545255f99e1d",
            "65410acf76ec42bbab52efea74c47cb4"
          ]
        },
        "id": "dNOw5QzLg5_e",
        "outputId": "80fb86a1-c216-4bac-8ce5-4894cdbc111d"
      },
      "execution_count": 12,
      "outputs": [
        {
          "output_type": "display_data",
          "data": {
            "application/vnd.jupyter.widget-view+json": {
              "model_id": "e7bd8e63b24c43b1b8cb24304aec1de0",
              "version_minor": 0,
              "version_major": 2
            },
            "text/plain": [
              "Downloading:   0%|          | 0.00/1.35G [00:00<?, ?B/s]"
            ]
          },
          "metadata": {}
        }
      ]
    },
    {
      "cell_type": "code",
      "source": [
        "def auth():\n",
        "    return os.getenv('TOKEN')"
      ],
      "metadata": {
        "id": "X9vDqpVV12eG"
      },
      "execution_count": 14,
      "outputs": []
    },
    {
      "cell_type": "code",
      "source": [
        "def create_headers(bearer_token):\n",
        "    headers = {\"Authorization\": \"Bearer {}\".format(bearer_token)}\n",
        "    return headers"
      ],
      "metadata": {
        "id": "pEn1_ade2CWT"
      },
      "execution_count": 15,
      "outputs": []
    },
    {
      "cell_type": "code",
      "source": [
        "bearer_token = auth()\n",
        "headers = create_headers(bearer_token)"
      ],
      "metadata": {
        "id": "S9jxGOml4EQF"
      },
      "execution_count": 16,
      "outputs": []
    },
    {
      "cell_type": "code",
      "source": [
        "def create_url(index):\n",
        "    tweet_fields = \"tweet.fields=lang,author_id,text\"\n",
        "    # Tweet fields are adjustable.\n",
        "    # Options include:\n",
        "    # attachments, author_id, context_annotations,\n",
        "    # conversation_id, created_at, entities, geo, id,\n",
        "    # in_reply_to_user_id, lang, non_public_metrics, organic_metrics,\n",
        "    # possibly_sensitive, promoted_metrics, public_metrics, referenced_tweets,\n",
        "    # source, text, and withheld\n",
        "    ids = \"ids={}\".format(index)\n",
        "    # You can adjust ids to include a single Tweets.\n",
        "    # Or you can add to up to 100 comma-separated IDs\n",
        "    url = \"https://api.twitter.com/2/tweets?{}&{}\".format(ids, tweet_fields)\n",
        "    return url"
      ],
      "metadata": {
        "id": "gE7gnoHj6qkd"
      },
      "execution_count": 17,
      "outputs": []
    },
    {
      "cell_type": "code",
      "source": [
        "#response = requests.request(\"GET\", url, headers=headers).json()"
      ],
      "metadata": {
        "id": "mq9V3QbS70kv"
      },
      "execution_count": 18,
      "outputs": []
    },
    {
      "cell_type": "code",
      "source": [
        "def connect_to_endpoint(url):\n",
        "    response = requests.request(\"GET\", url, headers=headers)\n",
        "    print(response.status_code)\n",
        "    if response.status_code != 200:\n",
        "        raise Exception(\n",
        "            \"Request returned an error: {} {}\".format(\n",
        "                response.status_code, response.text\n",
        "            )\n",
        "        )\n",
        "    return response.json()"
      ],
      "metadata": {
        "id": "zQQNE4hQ78Td"
      },
      "execution_count": 19,
      "outputs": []
    },
    {
      "cell_type": "code",
      "source": [
        "len(lis)"
      ],
      "metadata": {
        "id": "SzilPn-SevJ8"
      },
      "execution_count": null,
      "outputs": []
    },
    {
      "cell_type": "code",
      "source": [
        "Original_Tweets=[]"
      ],
      "metadata": {
        "id": "GNiVk_DafOjg"
      },
      "execution_count": 21,
      "outputs": []
    },
    {
      "cell_type": "code",
      "source": [
        "for i in range(len(lis)-1):\n",
        "  item=lis[i]\n",
        "  url = create_url(item)\n",
        "  json_response = connect_to_endpoint(url)\n",
        "  print(json.dumps(json_response, indent=4, sort_keys=True))\n",
        "  print(i)\n",
        "  Original_Tweets.append(json_response['data'][0]['text'] )"
      ],
      "metadata": {
        "colab": {
          "base_uri": "https://localhost:8080/"
        },
        "id": "Ds288Hbg8Vwu",
        "outputId": "60087d6a-59e1-4bac-ed80-cacba414cef3"
      },
      "execution_count": 32,
      "outputs": [
        {
          "output_type": "stream",
          "name": "stdout",
          "text": [
            "200\n",
            "{\n",
            "    \"data\": [\n",
            "        {\n",
            "            \"author_id\": \"1480021276919951361\",\n",
            "            \"id\": \"1481126665971400704\",\n",
            "            \"lang\": \"en\",\n",
            "            \"text\": \"While I did put the Steelers as losing their first playoff game this year, I've seen this team do some incredible things over the years. I don't doubt that you'll put up a good fight! https://t.co/Fx6XvD5B1L\"\n",
            "        }\n",
            "    ]\n",
            "}\n",
            "0\n",
            "200\n",
            "{\n",
            "    \"data\": [\n",
            "        {\n",
            "            \"author_id\": \"1419145241018445825\",\n",
            "            \"id\": \"1480850885429411842\",\n",
            "            \"lang\": \"en\",\n",
            "            \"text\": \"According to @BajwaKehtaHaii, Quetta Gladiators will use reserved Supplementary Round pick for Shimron Hetmyer. He's currently a replacement for Jason Roy. Once Roy is back and if Hetmyer isn't named in squad vs India, he'll be picked and made available for full season. #PSL2022\"\n",
            "        }\n",
            "    ]\n",
            "}\n",
            "1\n",
            "200\n",
            "{\n",
            "    \"data\": [\n",
            "        {\n",
            "            \"author_id\": \"885972982052597761\",\n",
            "            \"id\": \"1481024521570340868\",\n",
            "            \"lang\": \"en\",\n",
            "            \"text\": \"Bar\\u00e7a are interested in Lisandro Martinez. Last summer, they offered a loan deal with an option to buy, but Ajax refused. Xavi really likes his profile, and the player has a verbal agreement with the Dutch club to leave if an important offer arrives.\\n\\n\\u2014 @tuttosport via @sport https://t.co/pgjmEsRSVL\"\n",
            "        }\n",
            "    ]\n",
            "}\n",
            "2\n",
            "200\n",
            "{\n",
            "    \"data\": [\n",
            "        {\n",
            "            \"author_id\": \"175669011\",\n",
            "            \"id\": \"1481126568151846913\",\n",
            "            \"lang\": \"en\",\n",
            "            \"text\": \"@jessie_jjp @the_eskimo_spy Good or great you just changed it. I could name a bunch of coaches that won with good QBs. Belichick only won consistently because he had the greatest player ever on his roster for 20 years.\"\n",
            "        }\n",
            "    ]\n",
            "}\n",
            "3\n",
            "200\n",
            "{\n",
            "    \"data\": [\n",
            "        {\n",
            "            \"author_id\": \"1012124791\",\n",
            "            \"id\": \"1481126579208015875\",\n",
            "            \"lang\": \"en\",\n",
            "            \"text\": \"Thank you for the shout out! @joefav @RachelRJacobson Some incredible names to be along side doing some big things in the world of sports. Going to be a fun year ahead! https://t.co/ddcyZ4vo7P\"\n",
            "        }\n",
            "    ]\n",
            "}\n",
            "4\n",
            "200\n",
            "{\n",
            "    \"data\": [\n",
            "        {\n",
            "            \"author_id\": \"269019013\",\n",
            "            \"id\": \"1481051193942200322\",\n",
            "            \"lang\": \"en\",\n",
            "            \"text\": \"A former #Titans assistant is a candidate for one #NFL team currently looking for a head coach. \\nhttps://t.co/sOl64ceQRw https://t.co/4UVIDyFxiF\"\n",
            "        }\n",
            "    ]\n",
            "}\n",
            "5\n",
            "200\n",
            "{\n",
            "    \"data\": [\n",
            "        {\n",
            "            \"author_id\": \"33857883\",\n",
            "            \"id\": \"1480936334592286727\",\n",
            "            \"lang\": \"en\",\n",
            "            \"text\": \"Major League Baseball and the MLB Players Association plan to hold a bargaining session Thursday, sources tell ESPN. MLB is expected to make a core-economics proposal at the session, which would be the first between the sides since the league locked out the players on Dec. 2.\"\n",
            "        }\n",
            "    ]\n",
            "}\n",
            "6\n",
            "200\n",
            "{\n",
            "    \"data\": [\n",
            "        {\n",
            "            \"author_id\": \"335891957\",\n",
            "            \"id\": \"1481126456482996226\",\n",
            "            \"lang\": \"en\",\n",
            "            \"text\": \"\\\"These are challenging conditions, not easy conditions to score runs in, but you are right, we are below par\\\"\\n\\n\\u2014 Batting coach Vikram Rathour on India's first innings performance at Cape Town. #SAvIND  \\n\\nhttps://t.co/MQlmdr62l5\"\n",
            "        }\n",
            "    ]\n",
            "}\n",
            "7\n",
            "200\n",
            "{\n",
            "    \"data\": [\n",
            "        {\n",
            "            \"author_id\": \"148476464\",\n",
            "            \"id\": \"1480929190560079880\",\n",
            "            \"lang\": \"en\",\n",
            "            \"text\": \"Frank Reich says he has been more critical and coached Carson Wentz harder this year than he did in his first two years together in Philly\\n\\n https://t.co/efvgE3c281\"\n",
            "        }\n",
            "    ]\n",
            "}\n",
            "8\n",
            "200\n",
            "{\n",
            "    \"data\": [\n",
            "        {\n",
            "            \"author_id\": \"4149151339\",\n",
            "            \"id\": \"1481126439416123393\",\n",
            "            \"lang\": \"en\",\n",
            "            \"text\": \"The purpose of this exercise is to highlight and perhaps recognize the contribution of a player who has half of his finest knocks which were bettered by some or the other player. But I guess that was Dravid, just a team player! \\n#HappyBirthdayRahulDravid \\n\\n\\ud83d\\udcf7: NDTV Sports https://t.co/xw37rnUKbp\"\n",
            "        }\n",
            "    ]\n",
            "}\n",
            "9\n",
            "200\n",
            "{\n",
            "    \"data\": [\n",
            "        {\n",
            "            \"author_id\": \"1399240522313650179\",\n",
            "            \"id\": \"1481126382339952642\",\n",
            "            \"lang\": \"en\",\n",
            "            \"text\": \"@LundgaardK @inteuder @sportspredicttt @DatChiSportsGuy @SteelersFan11 @AlbertBreer That's a great narrative, Bill's done nothing without the QB \\n\\nHe was a loser before Brady took over and he's been completely mediocre since Brady left \\n\\nIn between they had the greatest dynasty in sports history \\n\\nGee, what changed?\"\n",
            "        }\n",
            "    ]\n",
            "}\n",
            "10\n",
            "200\n",
            "{\n",
            "    \"data\": [\n",
            "        {\n",
            "            \"author_id\": \"1549056301\",\n",
            "            \"id\": \"1481126368347840513\",\n",
            "            \"lang\": \"en\",\n",
            "            \"text\": \"Cooper Whipkey fueled a second-half scoring eruption from the Mackinaw City boys, who pulled away for a 71-49 home victory over Harbor Light on Tuesday. Whipkey finished with 22 points, including 17 in the fourth quarter. https://t.co/d8EeJElie1 https://t.co/pfYXePj5l7\"\n",
            "        }\n",
            "    ]\n",
            "}\n",
            "11\n",
            "200\n",
            "{\n",
            "    \"data\": [\n",
            "        {\n",
            "            \"author_id\": \"478493459\",\n",
            "            \"id\": \"1481131264061374464\",\n",
            "            \"lang\": \"en\",\n",
            "            \"text\": \"Any male tennis stars and bureaucrats want to show us they are not spoilt brats and support vaccinations and safety and what\\u2019s right over money?\"\n",
            "        }\n",
            "    ]\n",
            "}\n",
            "12\n",
            "200\n",
            "{\n",
            "    \"data\": [\n",
            "        {\n",
            "            \"author_id\": \"2795435178\",\n",
            "            \"id\": \"1481131052139958272\",\n",
            "            \"lang\": \"en\",\n",
            "            \"text\": \"\\u201cDjokovic applied for a medical exemption which was granted following a rigorous review process involving two separate independent panels of medical experts.\\u201d \\nTennis Australia's statement is ageing well. Once you see the words \\\"rigorous, review process\\\", you worry.\"\n",
            "        }\n",
            "    ]\n",
            "}\n",
            "13\n",
            "200\n",
            "{\n",
            "    \"data\": [\n",
            "        {\n",
            "            \"author_id\": \"916510790\",\n",
            "            \"id\": \"1481131608954609664\",\n",
            "            \"lang\": \"en\",\n",
            "            \"text\": \"@Zigmanfreud Golf journalism ranks where on the list of journalistic importance?\"\n",
            "        }\n",
            "    ]\n",
            "}\n",
            "14\n",
            "200\n",
            "{\n",
            "    \"data\": [\n",
            "        {\n",
            "            \"author_id\": \"23076265\",\n",
            "            \"id\": \"1480921362143367186\",\n",
            "            \"lang\": \"en\",\n",
            "            \"text\": \"Stefan Johansson claims most people he has spoken to in the racing industry say the Abu Dhabi Grand Prix \\\"was the last F1 race they will ever watch\\\" due to its controversial finish.\\n\\nhttps://t.co/kgVxlAmBbb #F1 https://t.co/nshMPkMQgs\"\n",
            "        }\n",
            "    ]\n",
            "}\n",
            "15\n",
            "200\n",
            "{\n",
            "    \"data\": [\n",
            "        {\n",
            "            \"author_id\": \"1300769090190151681\",\n",
            "            \"id\": \"1481132125537644544\",\n",
            "            \"lang\": \"en\",\n",
            "            \"text\": \"@mike_brooke @rothwell_colin @fiagirly F1 doesnt need Lewis yet he is the topic even when f1 has a so called new champion, hahaha ddd you see what happened to LA Liga after Messi and Ronaldo left? U pple talk so much drizzle\"\n",
            "        }\n",
            "    ]\n",
            "}\n",
            "16\n",
            "200\n",
            "{\n",
            "    \"data\": [\n",
            "        {\n",
            "            \"author_id\": \"59207754\",\n",
            "            \"id\": \"1481129822164340737\",\n",
            "            \"lang\": \"en\",\n",
            "            \"text\": \"Tyson Fury takes a swipe at Anthony Joshua for losing his titles to Oleksandr Usyk and handing 'Ukraine all the heavyweight belts back', as he labels AJ a 'big useless dosser' and insists...\\nvia https://t.co/tRYG0AuBDk https://t.co/SYa13bRuW9\"\n",
            "        }\n",
            "    ]\n",
            "}\n",
            "17\n",
            "200\n",
            "{\n",
            "    \"data\": [\n",
            "        {\n",
            "            \"author_id\": \"2522050362\",\n",
            "            \"id\": \"1481133600003133440\",\n",
            "            \"lang\": \"en\",\n",
            "            \"text\": \"@SportsNerd824 my 2022 not off to a good start, so i'm desperately waiting for UFC to start along with tennis to get a couple more weeks in the bag before going aggressive\"\n",
            "        }\n",
            "    ]\n",
            "}\n",
            "18\n",
            "200\n",
            "{\n",
            "    \"data\": [\n",
            "        {\n",
            "            \"author_id\": \"1076684447150493696\",\n",
            "            \"id\": \"1481129368038502400\",\n",
            "            \"lang\": \"en\",\n",
            "            \"text\": \"Final thoughts: Cody physically looked good against KKF, but should not have fought a top guy for his first fight down there. Early on was using his size and managing distance, then elected to engage in the pocket and got into trouble. I wouldn\\u2019t mind staying at 125 or back 1/2\"\n",
            "        }\n",
            "    ]\n",
            "}\n",
            "19\n",
            "200\n",
            "{\n",
            "    \"data\": [\n",
            "        {\n",
            "            \"author_id\": \"1216018670540984321\",\n",
            "            \"id\": \"1481131427278331904\",\n",
            "            \"lang\": \"en\",\n",
            "            \"text\": \"People with golf sims!!!\\n\\nWe just set ours up and have a few questions. Anyone experience the following issues:\\n\\n- Putting doesn\\u2019t read\\n-Clubs are about 30-40 yards off for distance \\n- Playing with a lefty in the group\"\n",
            "        }\n",
            "    ]\n",
            "}\n",
            "20\n",
            "200\n",
            "{\n",
            "    \"data\": [\n",
            "        {\n",
            "            \"author_id\": \"2507753012\",\n",
            "            \"id\": \"1481132852515328003\",\n",
            "            \"lang\": \"en\",\n",
            "            \"text\": \"@Jdogcrew22 @bombsboxing @LazyLeftyOG There an advantage because, if you are taller and longer than your opponent you stand a better chance of landing on them before they do on you. Do you not know how boxing works? Being taller and longer doesn\\u2019t mean you\\u2019re the better fighter but physically you have the advantage\"\n",
            "        }\n",
            "    ]\n",
            "}\n",
            "21\n",
            "200\n",
            "{\n",
            "    \"data\": [\n",
            "        {\n",
            "            \"author_id\": \"1306234512800579587\",\n",
            "            \"id\": \"1481132839148138496\",\n",
            "            \"lang\": \"en\",\n",
            "            \"text\": \"@TheMaximumPower @zainbando99 The reports are that it\\u2019s because Yan isn\\u2019t vaccinated so that points blame to Yan. In reality it\\u2019s just the UFC moving them to April to stack that card and allow Colby/Jorge to headline March. Neither guy is in the wrong. People just hate Aljo so they assume it\\u2019s bc of him\"\n",
            "        }\n",
            "    ]\n",
            "}\n",
            "22\n",
            "200\n",
            "{\n",
            "    \"data\": [\n",
            "        {\n",
            "            \"author_id\": \"1228212887610515459\",\n",
            "            \"id\": \"1480874739065253888\",\n",
            "            \"lang\": \"en\",\n",
            "            \"text\": \"Perfection - Virat Kohli's Cover Drive. https://t.co/DPMYwC295T\"\n",
            "        }\n",
            "    ]\n",
            "}\n",
            "23\n",
            "200\n",
            "{\n",
            "    \"data\": [\n",
            "        {\n",
            "            \"author_id\": \"984636823749013504\",\n",
            "            \"id\": \"1480083308734210053\",\n",
            "            \"lang\": \"en\",\n",
            "            \"text\": \"\\\"Can he just get something to explode out of the footmark? That's what he's trying to do, he's getting it wide outside the off stump, catch a footmark...\\n\\n\\\"About there! ABOUT THERE!\\\" - Ricky Ponting\\n\\nSTEVE SMITH WICKET #Ashes https://t.co/5w5ZjZE58J\"\n",
            "        }\n",
            "    ]\n",
            "}\n",
            "24\n",
            "200\n",
            "{\n",
            "    \"data\": [\n",
            "        {\n",
            "            \"author_id\": \"443668407\",\n",
            "            \"id\": \"1480941173510393856\",\n",
            "            \"lang\": \"en\",\n",
            "            \"text\": \"What a finish \\ud83c\\udfaf\\n\\nLeicester's Kelechi Iheanacho gives the super eagles of Nigeria the lead against Egypt \\ud83e\\udd85 https://t.co/N6h6sycCW0\"\n",
            "        }\n",
            "    ]\n",
            "}\n",
            "25\n",
            "200\n",
            "{\n",
            "    \"data\": [\n",
            "        {\n",
            "            \"author_id\": \"1561123663\",\n",
            "            \"id\": \"1480891358231638019\",\n",
            "            \"lang\": \"en\",\n",
            "            \"text\": \"On this day in 2014, Riyad Mahrez joined Leicester City for $900K while they were in the Championship.\\n\\nTwo years later, he helped them win the Premier League \\ud83c\\udfc6 https://t.co/277AzBAYfl\"\n",
            "        }\n",
            "    ]\n",
            "}\n",
            "26\n",
            "200\n",
            "{\n",
            "    \"data\": [\n",
            "        {\n",
            "            \"author_id\": \"1344963698041958400\",\n",
            "            \"id\": \"1481003750726717441\",\n",
            "            \"lang\": \"en\",\n",
            "            \"text\": \"Andy Carroll just scored two of the best disallowed goals you're ever going to see #readingfc https://t.co/vM9fVNIRUW\"\n",
            "        }\n",
            "    ]\n",
            "}\n",
            "27\n",
            "200\n",
            "{\n",
            "    \"data\": [\n",
            "        {\n",
            "            \"author_id\": \"1264228807952736256\",\n",
            "            \"id\": \"1480998191432716296\",\n",
            "            \"lang\": \"en\",\n",
            "            \"text\": \"If I was Paul Pierce, I\\u2019d hate LeBron too. https://t.co/wqM2sgB4Ne\"\n",
            "        }\n",
            "    ]\n",
            "}\n",
            "28\n",
            "200\n",
            "{\n",
            "    \"data\": [\n",
            "        {\n",
            "            \"author_id\": \"36065771\",\n",
            "            \"id\": \"1479336805535301633\",\n",
            "            \"lang\": \"en\",\n",
            "            \"text\": \"Ever wondered how to have a cheap holiday in the Maldives? https://t.co/ue0GGdy99b https://t.co/s55J2MMb1i\"\n",
            "        }\n",
            "    ]\n",
            "}\n",
            "29\n",
            "200\n",
            "{\n",
            "    \"data\": [\n",
            "        {\n",
            "            \"author_id\": \"37924397\",\n",
            "            \"id\": \"1480490611417382912\",\n",
            "            \"lang\": \"en\",\n",
            "            \"text\": \"This is why the govt suspended Umrah travel. Ustaz Abu Syafiq, who has 29k followers on IG, claims he\\u2019s unvaccinated and brought unvaccinated people to Saudi. \\n\\nKJ / MOH aren\\u2019t stigmatizing Umrah pilgrims. There is a real behavioral problem, with many not following quarantine. https://t.co/c3Ptxg3H2D\"\n",
            "        }\n",
            "    ]\n",
            "}\n",
            "30\n",
            "200\n",
            "{\n",
            "    \"data\": [\n",
            "        {\n",
            "            \"author_id\": \"1044618027482968065\",\n",
            "            \"id\": \"1481134243023814658\",\n",
            "            \"lang\": \"en\",\n",
            "            \"text\": \"A journey is more than just getting from one point to another; it's a compilation of our fondest memories shared with those we love. \\nSo why not make more lovely memories? When you travel with navg travel, your experiences will be remarkable. Call us: 8285125402\\n#travel #Tourism https://t.co/J3oN1fN844\"\n",
            "        }\n",
            "    ]\n",
            "}\n",
            "31\n",
            "200\n",
            "{\n",
            "    \"data\": [\n",
            "        {\n",
            "            \"author_id\": \"3034558013\",\n",
            "            \"id\": \"1477943062060019713\",\n",
            "            \"lang\": \"en\",\n",
            "            \"text\": \"Demand an end to tourism cruelty! Help us end ads promoting abusive Asian elephant venues, including the cruellest peddled by numerous @ABTAtravel members. Please sign our petition: https://t.co/kGispjt6TG. https://t.co/2FYnCnxM5W\"\n",
            "        }\n",
            "    ]\n",
            "}\n",
            "32\n",
            "200\n",
            "{\n",
            "    \"data\": [\n",
            "        {\n",
            "            \"author_id\": \"19073140\",\n",
            "            \"id\": \"1480864400525316098\",\n",
            "            \"lang\": \"en\",\n",
            "            \"text\": \"Thonikadavu near Kundankuzhi in Kasaragod, is a must-visit destination for nature lovers and wildlife enthusiasts. Spread over hundreds of acres near Mulliyar Forest, its trekking trails invite you to experience the enchantment of the wilderness.\\n#NatureVibes #TravelForGood https://t.co/y7ftYwP1XJ\"\n",
            "        }\n",
            "    ]\n",
            "}\n",
            "33\n",
            "200\n",
            "{\n",
            "    \"data\": [\n",
            "        {\n",
            "            \"author_id\": \"765821350703312896\",\n",
            "            \"id\": \"1480542016689741824\",\n",
            "            \"lang\": \"en\",\n",
            "            \"text\": \"In addition to having great landmarks and unmatched #culture, #Bihar has a plethora of #delicacies to offer. #Tilkut is one such delicacy that is relished by all and holds a special significance in #MakarSankranti #celebrations.\\n\\n#SwadBiharKa #IncredibleIndia #BlissfulBihar https://t.co/AbgpNc5Ldb\"\n",
            "        }\n",
            "    ]\n",
            "}\n",
            "34\n",
            "200\n",
            "{\n",
            "    \"data\": [\n",
            "        {\n",
            "            \"author_id\": \"177101260\",\n",
            "            \"id\": \"1388853280193892353\",\n",
            "            \"lang\": \"en\",\n",
            "            \"text\": \"The Mayan city of Chichen Itza is full of architectural &amp; engineering marvels. But El Castillo does even more: clap your hands at the base of the stairs and the song of a sacred Mayan bird will echo through the air [source: https://t.co/lRlLZTIzyN] [more: https://t.co/d4rNpS5q8F] https://t.co/RnDgXLnvN8\"\n",
            "        }\n",
            "    ]\n",
            "}\n",
            "35\n",
            "200\n",
            "{\n",
            "    \"data\": [\n",
            "        {\n",
            "            \"author_id\": \"917121537567752194\",\n",
            "            \"id\": \"1480827365227855872\",\n",
            "            \"lang\": \"en\",\n",
            "            \"text\": \"#Monal is considered an iconic beauty of Islamabad, and it also promotes tourism in Pakistan as everyone who visits #Islamabad also visited #Monal. #SaveMonal it\\u2019s a landmark place.\\n#WeLoveMonal https://t.co/lWhCIflgyT\"\n",
            "        }\n",
            "    ]\n",
            "}\n",
            "36\n",
            "200\n",
            "{\n",
            "    \"data\": [\n",
            "        {\n",
            "            \"author_id\": \"256914902\",\n",
            "            \"id\": \"1480487469795528704\",\n",
            "            \"lang\": \"en\",\n",
            "            \"text\": \"The lord Ganesha at Ganpatipule is considered to be the Paschim Dwardevata and those visiting make it a point to pay their respects. The 400-year-old Ganpati idol at Ganpatipule is said to have sprung up from the earth. Have you visited this temple? \\nCredit - photo_frreak https://t.co/X7Z0U6XNvY\"\n",
            "        }\n",
            "    ]\n",
            "}\n",
            "37\n",
            "200\n",
            "{\n",
            "    \"data\": [\n",
            "        {\n",
            "            \"author_id\": \"1399563477769883651\",\n",
            "            \"id\": \"1481096575011409926\",\n",
            "            \"lang\": \"en\",\n",
            "            \"text\": \"Agrametro\\nAfter Kanpur ,agra metro is looking at breaking its record.60% work at depot completed within a year.1st set of ballastless tracks arrived at depot. It wil b kind of India's 1st tourism supported metro transport https://t.co/DkbQgMN2Sf\"\n",
            "        }\n",
            "    ]\n",
            "}\n",
            "38\n",
            "200\n",
            "{\n",
            "    \"data\": [\n",
            "        {\n",
            "            \"author_id\": \"288716551\",\n",
            "            \"id\": \"1479778225324654592\",\n",
            "            \"lang\": \"en\",\n",
            "            \"text\": \"Clean and luxury rooms only in 1500/night in my hotel Dalhousie Himachal Pradesh with pure veg restaurant \\n\\nWe promote budget tourism. Do visit https://t.co/Fq2eB2AA0A\"\n",
            "        }\n",
            "    ]\n",
            "}\n",
            "39\n",
            "200\n",
            "{\n",
            "    \"data\": [\n",
            "        {\n",
            "            \"author_id\": \"624517612\",\n",
            "            \"id\": \"1481131001367896065\",\n",
            "            \"lang\": \"en\",\n",
            "            \"text\": \"Gandikota Fort in Andhra Pradesh isn't just a fort but whispers a tale of a bygone era through its architecture. \\n#HeritageTourism #DekhoApnaDesh \\n@Tourism_AP\\n\\nVC: Beema Das https://t.co/ixINtuPUIo\"\n",
            "        }\n",
            "    ]\n",
            "}\n",
            "40\n",
            "200\n",
            "{\n",
            "    \"data\": [\n",
            "        {\n",
            "            \"author_id\": \"1315534190826328065\",\n",
            "            \"id\": \"1481136229924339715\",\n",
            "            \"lang\": \"en\",\n",
            "            \"text\": \"The Ministry of Tourism (North East) pays tribute to great visionary leader, orator, nationalist #SwamiVivekananda ji on his Jayanti which is also celebrated as #NationalYouthDay. His life and ideals will always be a source of inspiration to the Indian Youth.\\n#YuvaDiwas https://t.co/Wtaj7TrHKs\"\n",
            "        }\n",
            "    ]\n",
            "}\n",
            "41\n",
            "200\n",
            "{\n",
            "    \"data\": [\n",
            "        {\n",
            "            \"author_id\": \"2263966387\",\n",
            "            \"id\": \"1481136800731123716\",\n",
            "            \"lang\": \"en\",\n",
            "            \"text\": \"@canmoose89 @rumandnukacola @AaronPrince411 We have immune systems that have served us well &amp; continue to serve us well without having to become a slave to Pharma. 3 shots so far. That may sound Dramatic but thats what your advocating for... Do you ever stop to think about that? Forced Vaccination to keep a job? Travel?\"\n",
            "        }\n",
            "    ]\n",
            "}\n",
            "42\n",
            "200\n",
            "{\n",
            "    \"data\": [\n",
            "        {\n",
            "            \"author_id\": \"960891360453656576\",\n",
            "            \"id\": \"1480807968396361731\",\n",
            "            \"lang\": \"en\",\n",
            "            \"text\": \"Jimin sharing photos of his vacation is promoting tourism in South Korea's premier tourist destination Jeju Island, a UNESCO World Heritage Site.\\n\\nJeju Tourism Organization is launching an event to promote tourist attractions he recently visited in the country's largest island. https://t.co/nXrPueFbeh\"\n",
            "        }\n",
            "    ]\n",
            "}\n",
            "43\n",
            "200\n",
            "{\n",
            "    \"data\": [\n",
            "        {\n",
            "            \"author_id\": \"1237456146492948481\",\n",
            "            \"id\": \"1479716597392547843\",\n",
            "            \"lang\": \"en\",\n",
            "            \"text\": \"What is happening in Murree is the future of Tourism in Gilgit-Baltistan. Unplanned, unsustainable &amp; absolute chaos in peak seasons.\"\n",
            "        }\n",
            "    ]\n",
            "}\n",
            "44\n",
            "200\n",
            "{\n",
            "    \"data\": [\n",
            "        {\n",
            "            \"author_id\": \"207809313\",\n",
            "            \"id\": \"1480445576940437504\",\n",
            "            \"lang\": \"en\",\n",
            "            \"text\": \"Since the abrogation of Article 370, Tourism is peaking in Jammu and Kashmir. \\n\\nOver 1.27 lakh tourists visited the region in November 2021, the highest in the last decade. https://t.co/i6vRVfkSiN\"\n",
            "        }\n",
            "    ]\n",
            "}\n",
            "45\n",
            "200\n",
            "{\n",
            "    \"data\": [\n",
            "        {\n",
            "            \"author_id\": \"74377194\",\n",
            "            \"id\": \"1475058811073355777\",\n",
            "            \"lang\": \"en\",\n",
            "            \"text\": \"Take a little time to refresh your mind with this heavenly view of #LakeToba in #NorthSumatra, captured by @saragih_erick.\\n\\n\\ud83c\\udfa5 (IG) : @saragih_erick\\n\\n#WonderfulIndonesia https://t.co/HG0QUf1oZG\"\n",
            "        }\n",
            "    ]\n",
            "}\n",
            "46\n",
            "200\n",
            "{\n",
            "    \"data\": [\n",
            "        {\n",
            "            \"author_id\": \"1258664463563030529\",\n",
            "            \"id\": \"1481134997239365633\",\n",
            "            \"lang\": \"en\",\n",
            "            \"text\": \"Good move, nice, but I honestly feel PCR price has to be less than present one. Some of the resorts charging over USD 80. To sustain a better tourism, we need to address on PCR price tag. @presidencymv\\n@ibusolih @faya_i @Mausoom_Maus  https://t.co/0VHLdBtKlK\"\n",
            "        }\n",
            "    ]\n",
            "}\n",
            "47\n",
            "200\n",
            "{\n",
            "    \"data\": [\n",
            "        {\n",
            "            \"author_id\": \"751283435382067202\",\n",
            "            \"id\": \"1480964763526090760\",\n",
            "            \"lang\": \"en\",\n",
            "            \"text\": \"Checked Russian news and did not expect to see an article on Kanye planning to travel to Russia, make Russia his 2nd home, and his desire to meet Putin. Smh\"\n",
            "        }\n",
            "    ]\n",
            "}\n",
            "48\n",
            "200\n",
            "{\n",
            "    \"data\": [\n",
            "        {\n",
            "            \"author_id\": \"1171488632852471810\",\n",
            "            \"id\": \"1479707023402942465\",\n",
            "            \"lang\": \"en\",\n",
            "            \"text\": \"Good news for Skiing Lovers.\\n\\nSkiing courses started for the first time in Sonamarg. This will also boost the tourism sector.\\n\\n#Kashmir https://t.co/6DljJTeL04\"\n",
            "        }\n",
            "    ]\n",
            "}\n",
            "49\n",
            "200\n",
            "{\n",
            "    \"data\": [\n",
            "        {\n",
            "            \"author_id\": \"96015193\",\n",
            "            \"id\": \"1481097652779438081\",\n",
            "            \"lang\": \"en\",\n",
            "            \"text\": \"I think we need to be nice to Dean because it\\u2019s clear he doesn\\u2019t understand zoning.\\n\\nThe crooked part of Lombard street is in one of the densest parts of San Francisco, with dozens of giant condo and apartment buildings in all directions \\u2014 and yes, people love to visit that area. https://t.co/BmvtD7FLJf\"\n",
            "        }\n",
            "    ]\n",
            "}\n",
            "50\n",
            "200\n",
            "{\n",
            "    \"data\": [\n",
            "        {\n",
            "            \"author_id\": \"1476156214023114752\",\n",
            "            \"id\": \"1481134749972598785\",\n",
            "            \"lang\": \"en\",\n",
            "            \"text\": \"Medical tourism is a new way of discovering your support services. You want to reach a Hospital which is 3000 km away. You want to know about Best Hospitals, Good Doctors, Good hygienic facilities of Hotel, Food, Transportation. \\n- Swift Services ( Medical Tourism and Care) Team\"\n",
            "        }\n",
            "    ]\n",
            "}\n",
            "51\n",
            "200\n",
            "{\n",
            "    \"data\": [\n",
            "        {\n",
            "            \"author_id\": \"1301977615847362560\",\n",
            "            \"id\": \"1481133392188088320\",\n",
            "            \"lang\": \"en\",\n",
            "            \"text\": \"@stae_elephants @lek_chailert @ftwglobal @LadyFreethinker In this day and age we don\\u2019t need animals as slaves. Thailand should invest in modern technology to facilitate the tourism. Using animals to preform unnatural tricks should be placed in history.\"\n",
            "        }\n",
            "    ]\n",
            "}\n",
            "52\n",
            "200\n",
            "{\n",
            "    \"data\": [\n",
            "        {\n",
            "            \"author_id\": \"169430810\",\n",
            "            \"id\": \"1481133354938368001\",\n",
            "            \"lang\": \"en\",\n",
            "            \"text\": \"Wego And Saudi Tourism Authority Form Strategic Partnership to Promote Tourism to Saudi - PRNewswire https://t.co/rffiOi20gI\"\n",
            "        }\n",
            "    ]\n",
            "}\n",
            "53\n",
            "200\n",
            "{\n",
            "    \"data\": [\n",
            "        {\n",
            "            \"author_id\": \"878284831\",\n",
            "            \"id\": \"1480610993826787329\",\n",
            "            \"lang\": \"en\",\n",
            "            \"text\": \"BREAKING: Flight attendants call for Biden to implement a vaccine mandate for domestic air travel, saying that it \\\"could genuinely save someone\\u201d because the kind of people who attack attendants are likely \\\"anti-vax.\\\" RT TO URGE BIDEN TO UNLEASH THE MANDATE!\"\n",
            "        }\n",
            "    ]\n",
            "}\n",
            "54\n",
            "200\n",
            "{\n",
            "    \"data\": [\n",
            "        {\n",
            "            \"author_id\": \"1454000964801867784\",\n",
            "            \"id\": \"1481136500180144132\",\n",
            "            \"lang\": \"en\",\n",
            "            \"text\": \"Stunning images of Gariep Dam overflowing: The past few weeks have been rainy in large parts of South Africa. Take a look at the Gariep Dam overflowing \\n\\nThe post Stunning images of Gariep Dam\\u2026 https://t.co/aoKKyCwmg4 | @GetawayMagazine #GetawayMagazine #Travel #Tourism\"\n",
            "        }\n",
            "    ]\n",
            "}\n",
            "55\n",
            "200\n",
            "{\n",
            "    \"data\": [\n",
            "        {\n",
            "            \"author_id\": \"1301901124027527169\",\n",
            "            \"id\": \"1480973872002383873\",\n",
            "            \"lang\": \"en\",\n",
            "            \"text\": \"When I\\u2019m exploring the world is when I feel most at home. Love to travel, hate to arrive https://t.co/Pj4iOxjfve\"\n",
            "        }\n",
            "    ]\n",
            "}\n",
            "56\n",
            "200\n",
            "{\n",
            "    \"data\": [\n",
            "        {\n",
            "            \"author_id\": \"702802680356347908\",\n",
            "            \"id\": \"1481136270386806786\",\n",
            "            \"lang\": \"en\",\n",
            "            \"text\": \"https://t.co/a91P1q8hLV\\nJim Corbett National Park is the oldest national park set amidst the foothills of the Himalayas in the Nainital district of Uttarakhand.\\n#india #tourism #jimcorbett #nationalpark https://t.co/BUjEnJhrz5\"\n",
            "        }\n",
            "    ]\n",
            "}\n",
            "57\n",
            "200\n",
            "{\n",
            "    \"data\": [\n",
            "        {\n",
            "            \"author_id\": \"968760380049842179\",\n",
            "            \"id\": \"1481136860705755139\",\n",
            "            \"lang\": \"en\",\n",
            "            \"text\": \"This temple situated on big rock like Yadagirigutta telmple,this temple has more than 1000 acres of land,\\n  Sir kindly check this and renovate temple,it is great asset for Telangana history and tourism\\n@KTRTRS sir\\n@krishanKTRS\"\n",
            "        }\n",
            "    ]\n",
            "}\n",
            "58\n",
            "200\n",
            "{\n",
            "    \"data\": [\n",
            "        {\n",
            "            \"author_id\": \"935810770645893120\",\n",
            "            \"id\": \"1480779506256338949\",\n",
            "            \"lang\": \"en\",\n",
            "            \"text\": \"What are your 2022 Travel goals?\\n\\nWhich place in Uganda is a must visit for you this year? https://t.co/VI7IQnmBoL\"\n",
            "        }\n",
            "    ]\n",
            "}\n",
            "59\n",
            "200\n",
            "{\n",
            "    \"data\": [\n",
            "        {\n",
            "            \"author_id\": \"207809313\",\n",
            "            \"id\": \"1480879665560567810\",\n",
            "            \"lang\": \"en\",\n",
            "            \"text\": \"The first-ever Jan Shatabdi Express, connecting Manipur and Tripura via Assam, has been flagged off. \\n\\nThis will further improve connectivity in the Northeast and reduce travel time by 50%. https://t.co/aI8PZ93JGN\"\n",
            "        }\n",
            "    ]\n",
            "}\n",
            "60\n",
            "200\n",
            "{\n",
            "    \"data\": [\n",
            "        {\n",
            "            \"author_id\": \"897649440529330177\",\n",
            "            \"id\": \"1481136925214130176\",\n",
            "            \"lang\": \"en\",\n",
            "            \"text\": \"as someone who works in the tourism industry, this is something i'd want to see in my country lmfao\\n\\nimagine sb19 / bini doing this https://t.co/4EzfOx245D\"\n",
            "        }\n",
            "    ]\n",
            "}\n",
            "61\n",
            "200\n",
            "{\n",
            "    \"data\": [\n",
            "        {\n",
            "            \"author_id\": \"1241092826924023816\",\n",
            "            \"id\": \"1425631693378097167\",\n",
            "            \"lang\": \"en\",\n",
            "            \"text\": \"having some authentic Italian food for dinner tonight https://t.co/2fovHfrc9i\"\n",
            "        }\n",
            "    ]\n",
            "}\n",
            "62\n",
            "200\n",
            "{\n",
            "    \"data\": [\n",
            "        {\n",
            "            \"author_id\": \"1103675556036517890\",\n",
            "            \"id\": \"1481064021830815745\",\n",
            "            \"lang\": \"en\",\n",
            "            \"text\": \"Here\\u2019s an idea: what if there was a book that was literally just information about the Sonic characters? Like it gave you their stats, description of character history, favorite foods, etc. I think a lot of people care about the plethora of characters and it could be pretty cool! https://t.co/84svhu8la8\"\n",
            "        }\n",
            "    ]\n",
            "}\n",
            "63\n",
            "200\n",
            "{\n",
            "    \"data\": [\n",
            "        {\n",
            "            \"author_id\": \"1400399562758524935\",\n",
            "            \"id\": \"1481054402173878275\",\n",
            "            \"lang\": \"en\",\n",
            "            \"text\": \"If you just comply a little bit longer you'll have a completely destroyed immune system and no food on the supermarket shelves. \\ud83e\\udd21\"\n",
            "        }\n",
            "    ]\n",
            "}\n",
            "64\n",
            "200\n",
            "{\n",
            "    \"data\": [\n",
            "        {\n",
            "            \"author_id\": \"2938481632\",\n",
            "            \"id\": \"1480993892036231172\",\n",
            "            \"lang\": \"en\",\n",
            "            \"text\": \"I try not to revel in other people's angst but can't deny I am enjoying the sudden u-turn among F1 media now they realise Hamilton might leave and take food of their table.\\n\\n#F1xed https://t.co/8TWFdFFUIE\"\n",
            "        }\n",
            "    ]\n",
            "}\n",
            "65\n",
            "200\n",
            "{\n",
            "    \"data\": [\n",
            "        {\n",
            "            \"author_id\": \"1207723137103794177\",\n",
            "            \"id\": \"1481033810359820292\",\n",
            "            \"lang\": \"en\",\n",
            "            \"text\": \"It was cold last night and it will be absolutely brutal tonight, so we are mounting extra relief patrols in downtown Provodence, providing food and hot drinks along with comfort and survival supplies. Thank you for making this possible! https://t.co/tE8ncaDqMr\"\n",
            "        }\n",
            "    ]\n",
            "}\n",
            "66\n",
            "200\n",
            "{\n",
            "    \"data\": [\n",
            "        {\n",
            "            \"author_id\": \"201374033\",\n",
            "            \"id\": \"1480446473405874178\",\n",
            "            \"lang\": \"en\",\n",
            "            \"text\": \"Thankful for the growth Twitter has gotten my brand and showing the world I make amazing meals at affordable prices.We sell 1500 packs daily,would love everyone to help me push it to 2000 packs daily this year 2022.The price of our meals remains N1000. 08034092653 and DM is open. https://t.co/kqLKNcTs2Z\"\n",
            "        }\n",
            "    ]\n",
            "}\n",
            "67\n",
            "200\n",
            "{\n",
            "    \"data\": [\n",
            "        {\n",
            "            \"author_id\": \"1148588467070341120\",\n",
            "            \"id\": \"1480992768356925440\",\n",
            "            \"lang\": \"en\",\n",
            "            \"text\": \"Would you throw some Catfish on top of a salad? https://t.co/Yo48N3uq1J\"\n",
            "        }\n",
            "    ]\n",
            "}\n",
            "68\n",
            "200\n",
            "{\n",
            "    \"data\": [\n",
            "        {\n",
            "            \"author_id\": \"1385777460797526018\",\n",
            "            \"id\": \"1480747616061116416\",\n",
            "            \"lang\": \"en\",\n",
            "            \"text\": \"Tak boleh move on with this Garlic Butter Baked Lobster \\ud83d\\ude2d\\ud83d\\ude2d\\ud83d\\udc4d\\ud83c\\udffb\\n\\n\\ud83d\\udcb4 Rm299\\n\\ud83d\\udccc Delay No More Crab, IOI City Mall Putrajaya https://t.co/MfKAWRg53A\"\n",
            "        }\n",
            "    ]\n",
            "}\n",
            "69\n",
            "200\n",
            "{\n",
            "    \"data\": [\n",
            "        {\n",
            "            \"author_id\": \"1317188431009644544\",\n",
            "            \"id\": \"1480831338219737094\",\n",
            "            \"lang\": \"en\",\n",
            "            \"text\": \"For some reason, food tastes better when it\\u2019s somebody\\u2018s treat. https://t.co/RmBAoWrgZg\"\n",
            "        }\n",
            "    ]\n",
            "}\n",
            "70\n",
            "200\n",
            "{\n",
            "    \"data\": [\n",
            "        {\n",
            "            \"author_id\": \"936969084\",\n",
            "            \"id\": \"1480005484199309312\",\n",
            "            \"lang\": \"en\",\n",
            "            \"text\": \"Kfry always serve the best cheesy fried chicken!\\n\\nI first time try mango bingsoo and it was soo good. Tapi i lagi suka strawberry cheesecake bingsoo la. The ramens also sedappp \\ud83e\\udd0d https://t.co/IFhyAuB4fj\"\n",
            "        }\n",
            "    ]\n",
            "}\n",
            "71\n",
            "200\n",
            "{\n",
            "    \"data\": [\n",
            "        {\n",
            "            \"author_id\": \"110365072\",\n",
            "            \"id\": \"1480832890942414848\",\n",
            "            \"lang\": \"en\",\n",
            "            \"text\": \"Street Pizza are bringing the heat !! @GordonRamsayGRR https://t.co/V78QnsCVHE\"\n",
            "        }\n",
            "    ]\n",
            "}\n",
            "72\n",
            "200\n",
            "{\n",
            "    \"data\": [\n",
            "        {\n",
            "            \"author_id\": \"1321935792416149505\",\n",
            "            \"id\": \"1481040388345454594\",\n",
            "            \"lang\": \"en\",\n",
            "            \"text\": \"NEW: A survey of 10,000 Kroger supermarket workers reveals that 2/3 of employees are living in poverty and struggling to survive.\\n\\nThe grocery company's CEO made $20 million in 2021.\\n\\nMeanwhile, 40% of workers can\\u2019t afford food and 14% have been homeless in the last year. https://t.co/a5g3FGjN2v\"\n",
            "        }\n",
            "    ]\n",
            "}\n",
            "73\n",
            "200\n",
            "{\n",
            "    \"data\": [\n",
            "        {\n",
            "            \"author_id\": \"177681327\",\n",
            "            \"id\": \"1481031653585686530\",\n",
            "            \"lang\": \"en\",\n",
            "            \"text\": \"why eat everyday supermarket food when you can FINANCE A HAM FROM MONTGOMERY WARD? https://t.co/k9yzztztLn\"\n",
            "        }\n",
            "    ]\n",
            "}\n",
            "74\n",
            "200\n",
            "{\n",
            "    \"data\": [\n",
            "        {\n",
            "            \"author_id\": \"18925120\",\n",
            "            \"id\": \"1481106413241909251\",\n",
            "            \"lang\": \"en\",\n",
            "            \"text\": \"The lack of food on supermarket shelves is a direct result of Mr Morrison\\u2019s failures.\\n\\nThe scale of this stuff up is so big, and the consequences for ordinary Australians so bad, but once again Mr Morrison has gone missing when workers and small businesses need him most. https://t.co/qGtWmyrIK5\"\n",
            "        }\n",
            "    ]\n",
            "}\n",
            "75\n",
            "200\n",
            "{\n",
            "    \"data\": [\n",
            "        {\n",
            "            \"author_id\": \"3895883337\",\n",
            "            \"id\": \"1481021798741336076\",\n",
            "            \"lang\": \"en\",\n",
            "            \"text\": \"Welcome to 2022. \\n\\nYour grocery stores might not have all the food, but your pharmacies have the vaccine and all the boosters. https://t.co/KHnWCSEXGV\"\n",
            "        }\n",
            "    ]\n",
            "}\n",
            "76\n",
            "200\n",
            "{\n",
            "    \"data\": [\n",
            "        {\n",
            "            \"author_id\": \"941544401662181376\",\n",
            "            \"id\": \"1480872118921285634\",\n",
            "            \"lang\": \"en\",\n",
            "            \"text\": \"food always tastes better with pretty presentation https://t.co/VlCiLDsLY0\"\n",
            "        }\n",
            "    ]\n",
            "}\n",
            "77\n",
            "200\n",
            "{\n",
            "    \"data\": [\n",
            "        {\n",
            "            \"author_id\": \"288277167\",\n",
            "            \"id\": \"1481028305017094144\",\n",
            "            \"lang\": \"en\",\n",
            "            \"text\": \"VP Kamala Harris opening for President Biden in Atlanta: \\\"There is nothing normal about a law that makes it illegal to pass out water or food to people standing in long voting lines.\\\" https://t.co/wEcfNOIiw9\"\n",
            "        }\n",
            "    ]\n",
            "}\n",
            "78\n",
            "200\n",
            "{\n",
            "    \"data\": [\n",
            "        {\n",
            "            \"author_id\": \"1374114827753418757\",\n",
            "            \"id\": \"1481016663369781256\",\n",
            "            \"lang\": \"en\",\n",
            "            \"text\": \"The average jar of peanut butter may contain 4 or more rodent hairs.\\n\\nThe Food and Drug Administration confirmed it: a jar of peanut butter is allowed to contain one or more rodent hairs, and an average of\\u00a030 or more insect fragments per 100 grams before it is considered to be(1)\"\n",
            "        }\n",
            "    ]\n",
            "}\n",
            "79\n",
            "200\n",
            "{\n",
            "    \"data\": [\n",
            "        {\n",
            "            \"author_id\": \"834078524277456897\",\n",
            "            \"id\": \"1385815841531383810\",\n",
            "            \"lang\": \"en\",\n",
            "            \"text\": \"When this is over, let\\u2019s remember that it wasn\\u2019t the CEOs and billionaires who saved us. It was the janitors, nurses, grocery, and food workers.\"\n",
            "        }\n",
            "    ]\n",
            "}\n",
            "80\n",
            "200\n",
            "{\n",
            "    \"data\": [\n",
            "        {\n",
            "            \"author_id\": \"1363731011947827206\",\n",
            "            \"id\": \"1481088182649249797\",\n",
            "            \"lang\": \"en\",\n",
            "            \"text\": \"throwback to one of sangyeon's vlives before and his good news \\ud83e\\udd23\\n\\n\\ud83d\\udcad everyone, i have a good news. i have very good news! \\ud83d\\udc4f\\ud83d\\udc4f\\ud83d\\udc4f\\ud83d\\udc4f that good news is.............. my food has arrived. my food has finally arrived! https://t.co/jhueV1mo78\"\n",
            "        }\n",
            "    ]\n",
            "}\n",
            "81\n",
            "200\n",
            "{\n",
            "    \"data\": [\n",
            "        {\n",
            "            \"author_id\": \"15952856\",\n",
            "            \"id\": \"1480967173166276608\",\n",
            "            \"lang\": \"en\",\n",
            "            \"text\": \"Georgia Republicans cut # of drop boxes in Atlanta from 111 to 23, banned giving voters food &amp; water in line, gave voters less time to request/return mail ballots &amp; taking over local election boards. Yet Mitch McConnell says no GOP state legislatures are suppressing votes\"\n",
            "        }\n",
            "    ]\n",
            "}\n",
            "82\n",
            "200\n",
            "{\n",
            "    \"data\": [\n",
            "        {\n",
            "            \"author_id\": \"1507338108\",\n",
            "            \"id\": \"1481014442888413184\",\n",
            "            \"lang\": \"en\",\n",
            "            \"text\": \"\\u201cMaking it illegal to give your neighbor food or drink when they\\u2019re standing in line to vote? What the hell-heck are we talking about?\\u201d\\n-\\u2066@POTUS\\u2069 Biden https://t.co/TDv3FP7ncQ\"\n",
            "        }\n",
            "    ]\n",
            "}\n",
            "83\n",
            "200\n",
            "{\n",
            "    \"data\": [\n",
            "        {\n",
            "            \"author_id\": \"47681084\",\n",
            "            \"id\": \"1479824871169343490\",\n",
            "            \"lang\": \"en\",\n",
            "            \"text\": \"smoothie bowl Saturday\\ud83c\\udf31\\ud83c\\udf53\\ud83e\\udd51\\ud83d\\udc99 https://t.co/mCC2dWRiNC\"\n",
            "        }\n",
            "    ]\n",
            "}\n",
            "84\n",
            "200\n",
            "{\n",
            "    \"data\": [\n",
            "        {\n",
            "            \"author_id\": \"1162921963754442752\",\n",
            "            \"id\": \"1481101828247162886\",\n",
            "            \"lang\": \"en\",\n",
            "            \"text\": \"The summary of the answers of Kyungsoo is wishing for himself, people around, and EXO-Ls to be happy and healthy. He also wants to travel and eat good food on his birthday \\ud83e\\udd7a https://t.co/rWxeLMyfKs\"\n",
            "        }\n",
            "    ]\n",
            "}\n",
            "85\n",
            "200\n",
            "{\n",
            "    \"data\": [\n",
            "        {\n",
            "            \"author_id\": \"1334722755472703489\",\n",
            "            \"id\": \"1481130300294205440\",\n",
            "            \"lang\": \"en\",\n",
            "            \"text\": \"Yay! I have received my new fridge!\\nFinish the spoil foods and the water spills!\\nI am sooo happy!!!! https://t.co/lIhEtz0aOw\"\n",
            "        }\n",
            "    ]\n",
            "}\n",
            "86\n",
            "200\n",
            "{\n",
            "    \"data\": [\n",
            "        {\n",
            "            \"author_id\": \"1419851109951172609\",\n",
            "            \"id\": \"1481092276567027713\",\n",
            "            \"lang\": \"en\",\n",
            "            \"text\": \"i want skin to skin cuddling, holding hands, taking showers together, thigh rubs during car rides, smiling in between kisses, sitting next to each other on food dates, praying together, traveling together, play fighting, constant laughter and shared goofiness\"\n",
            "        }\n",
            "    ]\n",
            "}\n",
            "87\n",
            "200\n",
            "{\n",
            "    \"data\": [\n",
            "        {\n",
            "            \"author_id\": \"1442235479672328195\",\n",
            "            \"id\": \"1481100443547799560\",\n",
            "            \"lang\": \"en\",\n",
            "            \"text\": \"food shrimps baby!!! https://t.co/Vgrc4i2UDS\"\n",
            "        }\n",
            "    ]\n",
            "}\n",
            "88\n",
            "200\n",
            "{\n",
            "    \"data\": [\n",
            "        {\n",
            "            \"author_id\": \"1235176817075486722\",\n",
            "            \"id\": \"1481097711235780611\",\n",
            "            \"lang\": \"en\",\n",
            "            \"text\": \"Seungwoo's foods are very healthy \\ud83d\\ude03 https://t.co/wrgQyZyCjw\"\n",
            "        }\n",
            "    ]\n",
            "}\n",
            "89\n",
            "200\n",
            "{\n",
            "    \"data\": [\n",
            "        {\n",
            "            \"author_id\": \"592730371\",\n",
            "            \"id\": \"1480631041119432709\",\n",
            "            \"lang\": \"en\",\n",
            "            \"text\": \"The lady who calls you a conspiracy theorist for having emergency food kits is shoving her child in the trunk of the car that has a 'Trust Science' bumper sticker\"\n",
            "        }\n",
            "    ]\n",
            "}\n",
            "90\n",
            "200\n",
            "{\n",
            "    \"data\": [\n",
            "        {\n",
            "            \"author_id\": \"54945432\",\n",
            "            \"id\": \"1480991609118359552\",\n",
            "            \"lang\": \"en\",\n",
            "            \"text\": \"Friend just told me her daughter got fired from her fast food job for refusing to come to work while COVID positive.\"\n",
            "        }\n",
            "    ]\n",
            "}\n",
            "91\n"
          ]
        }
      ]
    },
    {
      "cell_type": "code",
      "source": [
        "print(Original_Tweets)"
      ],
      "metadata": {
        "id": "zV48H9nYcqfT"
      },
      "execution_count": null,
      "outputs": []
    },
    {
      "cell_type": "code",
      "source": [
        "for i in range(len(Original_Tweets)):\n",
        "\n",
        "  \n",
        "  input_ids=tokenizer.encode(Original_Tweets[i], return_tensors=\"pt\")\n",
        "  sample_output = model.generate(\n",
        "    input_ids,\n",
        "    do_sample=True, \n",
        "    max_length=150, \n",
        "    top_k=50, \n",
        "    top_p=0.95,\n",
        "    early_stopping=True,\n",
        "    temperature= 0.70, \n",
        "    num_return_sequences=1\n",
        "    )\n",
        "  \n",
        "\n",
        "\n",
        "  with open(\"Output-NEWS.txt\", \"a\") as o:\n",
        "    print(Original_Tweets[i], file=o)\n",
        "    print(\"\\n\", file=o)\n",
        "    print(\"Output: \", file=o)\n",
        "    print(tokenizer.decode(sample_output[0], skip_special_tokens=True), file=o)\n",
        "    print(100 * \"-\", file=o)\n",
        "  "
      ],
      "metadata": {
        "id": "PYSXnzkHfxWm",
        "colab": {
          "base_uri": "https://localhost:8080/",
          "height": 1000
        },
        "outputId": "31ff35c5-3590-4af9-b17f-1d5157494b89"
      },
      "execution_count": 40,
      "outputs": [
        {
          "output_type": "stream",
          "name": "stderr",
          "text": [
            "Setting `pad_token_id` to `eos_token_id`:50256 for open-end generation.\n"
          ]
        },
        {
          "output_type": "stream",
          "name": "stdout",
          "text": [
            "topic: sports article:While I did put the Steelers as losing their first playoff game this year, I've seen this team do some incredible things over the years. I don't doubt that you'll put up a good fight! https://t.co/Fx6XvD5B1L\n"
          ]
        },
        {
          "output_type": "stream",
          "name": "stderr",
          "text": [
            "Setting `pad_token_id` to `eos_token_id`:50256 for open-end generation.\n"
          ]
        },
        {
          "output_type": "stream",
          "name": "stdout",
          "text": [
            "topic: sports article:According to @BajwaKehtaHaii, Quetta Gladiators will use reserved Supplementary Round pick for Shimron Hetmyer. He's currently a replacement for Jason Roy. Once Roy is back and if Hetmyer isn't named in squad vs India, he'll be picked and made available for full season. #PSL2022\n"
          ]
        },
        {
          "output_type": "stream",
          "name": "stderr",
          "text": [
            "Setting `pad_token_id` to `eos_token_id`:50256 for open-end generation.\n"
          ]
        },
        {
          "output_type": "stream",
          "name": "stdout",
          "text": [
            "topic: sports article:Barça are interested in Lisandro Martinez. Last summer, they offered a loan deal with an option to buy, but Ajax refused. Xavi really likes his profile, and the player has a verbal agreement with the Dutch club to leave if an important offer arrives.\n",
            "\n",
            "— @tuttosport via @sport https://t.co/pgjmEsRSVL\n"
          ]
        },
        {
          "output_type": "stream",
          "name": "stderr",
          "text": [
            "Setting `pad_token_id` to `eos_token_id`:50256 for open-end generation.\n"
          ]
        },
        {
          "output_type": "stream",
          "name": "stdout",
          "text": [
            "topic: sports article:@jessie_jjp @the_eskimo_spy Good or great you just changed it. I could name a bunch of coaches that won with good QBs. Belichick only won consistently because he had the greatest player ever on his roster for 20 years.\n"
          ]
        },
        {
          "output_type": "stream",
          "name": "stderr",
          "text": [
            "Setting `pad_token_id` to `eos_token_id`:50256 for open-end generation.\n"
          ]
        },
        {
          "output_type": "stream",
          "name": "stdout",
          "text": [
            "topic: sports article:Thank you for the shout out! @joefav @RachelRJacobson Some incredible names to be along side doing some big things in the world of sports. Going to be a fun year ahead! https://t.co/ddcyZ4vo7P\n"
          ]
        },
        {
          "output_type": "stream",
          "name": "stderr",
          "text": [
            "Setting `pad_token_id` to `eos_token_id`:50256 for open-end generation.\n"
          ]
        },
        {
          "output_type": "stream",
          "name": "stdout",
          "text": [
            "topic: sports article:A former #Titans assistant is a candidate for one #NFL team currently looking for a head coach. \n",
            "https://t.co/sOl64ceQRw https://t.co/4UVIDyFxiF\n"
          ]
        },
        {
          "output_type": "stream",
          "name": "stderr",
          "text": [
            "Setting `pad_token_id` to `eos_token_id`:50256 for open-end generation.\n"
          ]
        },
        {
          "output_type": "stream",
          "name": "stdout",
          "text": [
            "topic: sports article:Major League Baseball and the MLB Players Association plan to hold a bargaining session Thursday, sources tell ESPN. MLB is expected to make a core-economics proposal at the session, which would be the first between the sides since the league locked out the players on Dec. 2.\n"
          ]
        },
        {
          "output_type": "stream",
          "name": "stderr",
          "text": [
            "Setting `pad_token_id` to `eos_token_id`:50256 for open-end generation.\n"
          ]
        },
        {
          "output_type": "stream",
          "name": "stdout",
          "text": [
            "topic: sports article:\"These are challenging conditions, not easy conditions to score runs in, but you are right, we are below par\"\n",
            "\n",
            "— Batting coach Vikram Rathour on India's first innings performance at Cape Town. #SAvIND  \n",
            "\n",
            "https://t.co/MQlmdr62l5\n"
          ]
        },
        {
          "output_type": "stream",
          "name": "stderr",
          "text": [
            "Setting `pad_token_id` to `eos_token_id`:50256 for open-end generation.\n"
          ]
        },
        {
          "output_type": "stream",
          "name": "stdout",
          "text": [
            "topic: sports article:Frank Reich says he has been more critical and coached Carson Wentz harder this year than he did in his first two years together in Philly\n",
            "\n",
            " https://t.co/efvgE3c281\n"
          ]
        },
        {
          "output_type": "stream",
          "name": "stderr",
          "text": [
            "Setting `pad_token_id` to `eos_token_id`:50256 for open-end generation.\n"
          ]
        },
        {
          "output_type": "stream",
          "name": "stdout",
          "text": [
            "topic: sports article:The purpose of this exercise is to highlight and perhaps recognize the contribution of a player who has half of his finest knocks which were bettered by some or the other player. But I guess that was Dravid, just a team player! \n",
            "#HappyBirthdayRahulDravid \n",
            "\n",
            "📷: NDTV Sports https://t.co/xw37rnUKbp\n"
          ]
        },
        {
          "output_type": "stream",
          "name": "stderr",
          "text": [
            "Setting `pad_token_id` to `eos_token_id`:50256 for open-end generation.\n"
          ]
        },
        {
          "output_type": "stream",
          "name": "stdout",
          "text": [
            "topic: sports article:@LundgaardK @inteuder @sportspredicttt @DatChiSportsGuy @SteelersFan11 @AlbertBreer That's a great narrative, Bill's done nothing without the QB \n",
            "\n",
            "He was a loser before Brady took over and he's been completely mediocre since Brady left \n",
            "\n",
            "In between they had the greatest dynasty in sports history \n",
            "\n",
            "Gee, what changed?\n"
          ]
        },
        {
          "output_type": "stream",
          "name": "stderr",
          "text": [
            "Setting `pad_token_id` to `eos_token_id`:50256 for open-end generation.\n"
          ]
        },
        {
          "output_type": "stream",
          "name": "stdout",
          "text": [
            "topic: sports article:Cooper Whipkey fueled a second-half scoring eruption from the Mackinaw City boys, who pulled away for a 71-49 home victory over Harbor Light on Tuesday. Whipkey finished with 22 points, including 17 in the fourth quarter. https://t.co/d8EeJElie1 https://t.co/pfYXePj5l7\n"
          ]
        },
        {
          "output_type": "stream",
          "name": "stderr",
          "text": [
            "Setting `pad_token_id` to `eos_token_id`:50256 for open-end generation.\n"
          ]
        },
        {
          "output_type": "stream",
          "name": "stdout",
          "text": [
            "topic: sports article:Any male tennis stars and bureaucrats want to show us they are not spoilt brats and support vaccinations and safety and what’s right over money?\n"
          ]
        },
        {
          "output_type": "stream",
          "name": "stderr",
          "text": [
            "Setting `pad_token_id` to `eos_token_id`:50256 for open-end generation.\n"
          ]
        },
        {
          "output_type": "stream",
          "name": "stdout",
          "text": [
            "topic: sports article:“Djokovic applied for a medical exemption which was granted following a rigorous review process involving two separate independent panels of medical experts.” \n",
            "Tennis Australia's statement is ageing well. Once you see the words \"rigorous, review process\", you worry.\n"
          ]
        },
        {
          "output_type": "stream",
          "name": "stderr",
          "text": [
            "Setting `pad_token_id` to `eos_token_id`:50256 for open-end generation.\n"
          ]
        },
        {
          "output_type": "stream",
          "name": "stdout",
          "text": [
            "topic: sports article:@Zigmanfreud Golf journalism ranks where on the list of journalistic importance?\n"
          ]
        },
        {
          "output_type": "stream",
          "name": "stderr",
          "text": [
            "Setting `pad_token_id` to `eos_token_id`:50256 for open-end generation.\n"
          ]
        },
        {
          "output_type": "stream",
          "name": "stdout",
          "text": [
            "topic: sports article:Stefan Johansson claims most people he has spoken to in the racing industry say the Abu Dhabi Grand Prix \"was the last F1 race they will ever watch\" due to its controversial finish.\n",
            "\n",
            "https://t.co/kgVxlAmBbb #F1 https://t.co/nshMPkMQgs\n"
          ]
        },
        {
          "output_type": "stream",
          "name": "stderr",
          "text": [
            "Setting `pad_token_id` to `eos_token_id`:50256 for open-end generation.\n"
          ]
        },
        {
          "output_type": "stream",
          "name": "stdout",
          "text": [
            "topic: sports article:@mike_brooke @rothwell_colin @fiagirly F1 doesnt need Lewis yet he is the topic even when f1 has a so called new champion, hahaha ddd you see what happened to LA Liga after Messi and Ronaldo left? U pple talk so much drizzle\n"
          ]
        },
        {
          "output_type": "stream",
          "name": "stderr",
          "text": [
            "Setting `pad_token_id` to `eos_token_id`:50256 for open-end generation.\n"
          ]
        },
        {
          "output_type": "stream",
          "name": "stdout",
          "text": [
            "topic: sports article:Tyson Fury takes a swipe at Anthony Joshua for losing his titles to Oleksandr Usyk and handing 'Ukraine all the heavyweight belts back', as he labels AJ a 'big useless dosser' and insists...\n",
            "via https://t.co/tRYG0AuBDk https://t.co/SYa13bRuW9\n"
          ]
        },
        {
          "output_type": "stream",
          "name": "stderr",
          "text": [
            "Setting `pad_token_id` to `eos_token_id`:50256 for open-end generation.\n"
          ]
        },
        {
          "output_type": "stream",
          "name": "stdout",
          "text": [
            "topic: sports article:@SportsNerd824 my 2022 not off to a good start, so i'm desperately waiting for UFC to start along with tennis to get a couple more weeks in the bag before going aggressive\n"
          ]
        },
        {
          "output_type": "stream",
          "name": "stderr",
          "text": [
            "Setting `pad_token_id` to `eos_token_id`:50256 for open-end generation.\n"
          ]
        },
        {
          "output_type": "stream",
          "name": "stdout",
          "text": [
            "topic: sports article:Final thoughts: Cody physically looked good against KKF, but should not have fought a top guy for his first fight down there. Early on was using his size and managing distance, then elected to engage in the pocket and got into trouble. I wouldn’t mind staying at 125 or back 1/2\n"
          ]
        },
        {
          "output_type": "stream",
          "name": "stderr",
          "text": [
            "Setting `pad_token_id` to `eos_token_id`:50256 for open-end generation.\n"
          ]
        },
        {
          "output_type": "stream",
          "name": "stdout",
          "text": [
            "topic: sports article:People with golf sims!!!\n",
            "\n",
            "We just set ours up and have a few questions. Anyone experience the following issues:\n",
            "\n",
            "- Putting doesn’t read\n",
            "-Clubs are about 30-40 yards off for distance \n",
            "- Playing with a lefty in the group\n"
          ]
        },
        {
          "output_type": "stream",
          "name": "stderr",
          "text": [
            "Setting `pad_token_id` to `eos_token_id`:50256 for open-end generation.\n"
          ]
        },
        {
          "output_type": "stream",
          "name": "stdout",
          "text": [
            "topic: sports article:@Jdogcrew22 @bombsboxing @LazyLeftyOG There an advantage because, if you are taller and longer than your opponent you stand a better chance of landing on them before they do on you. Do you not know how boxing works? Being taller and longer doesn’t mean you’re the better fighter but physically you have the advantage\n"
          ]
        },
        {
          "output_type": "stream",
          "name": "stderr",
          "text": [
            "Setting `pad_token_id` to `eos_token_id`:50256 for open-end generation.\n"
          ]
        },
        {
          "output_type": "stream",
          "name": "stdout",
          "text": [
            "topic: sports article:@TheMaximumPower @zainbando99 The reports are that it’s because Yan isn’t vaccinated so that points blame to Yan. In reality it’s just the UFC moving them to April to stack that card and allow Colby/Jorge to headline March. Neither guy is in the wrong. People just hate Aljo so they assume it’s bc of him\n"
          ]
        },
        {
          "output_type": "stream",
          "name": "stderr",
          "text": [
            "Setting `pad_token_id` to `eos_token_id`:50256 for open-end generation.\n"
          ]
        },
        {
          "output_type": "stream",
          "name": "stdout",
          "text": [
            "topic: sports article:Perfection - Virat Kohli's Cover Drive. https://t.co/DPMYwC295T\n"
          ]
        },
        {
          "output_type": "stream",
          "name": "stderr",
          "text": [
            "Setting `pad_token_id` to `eos_token_id`:50256 for open-end generation.\n"
          ]
        },
        {
          "output_type": "stream",
          "name": "stdout",
          "text": [
            "topic: sports article:\"Can he just get something to explode out of the footmark? That's what he's trying to do, he's getting it wide outside the off stump, catch a footmark...\n",
            "\n",
            "\"About there! ABOUT THERE!\" - Ricky Ponting\n",
            "\n",
            "STEVE SMITH WICKET #Ashes https://t.co/5w5ZjZE58J\n"
          ]
        },
        {
          "output_type": "stream",
          "name": "stderr",
          "text": [
            "Setting `pad_token_id` to `eos_token_id`:50256 for open-end generation.\n"
          ]
        },
        {
          "output_type": "stream",
          "name": "stdout",
          "text": [
            "topic: sports article:What a finish 🎯\n",
            "\n",
            "Leicester's Kelechi Iheanacho gives the super eagles of Nigeria the lead against Egypt 🦅 https://t.co/N6h6sycCW0\n"
          ]
        },
        {
          "output_type": "stream",
          "name": "stderr",
          "text": [
            "Setting `pad_token_id` to `eos_token_id`:50256 for open-end generation.\n"
          ]
        },
        {
          "output_type": "stream",
          "name": "stdout",
          "text": [
            "topic: sports article:On this day in 2014, Riyad Mahrez joined Leicester City for $900K while they were in the Championship.\n",
            "\n",
            "Two years later, he helped them win the Premier League 🏆 https://t.co/277AzBAYfl\n"
          ]
        },
        {
          "output_type": "stream",
          "name": "stderr",
          "text": [
            "Setting `pad_token_id` to `eos_token_id`:50256 for open-end generation.\n"
          ]
        },
        {
          "output_type": "stream",
          "name": "stdout",
          "text": [
            "topic: sports article:Andy Carroll just scored two of the best disallowed goals you're ever going to see #readingfc https://t.co/vM9fVNIRUW\n"
          ]
        },
        {
          "output_type": "stream",
          "name": "stderr",
          "text": [
            "Setting `pad_token_id` to `eos_token_id`:50256 for open-end generation.\n"
          ]
        },
        {
          "output_type": "stream",
          "name": "stdout",
          "text": [
            "topic: sports article:If I was Paul Pierce, I’d hate LeBron too. https://t.co/wqM2sgB4Ne\n"
          ]
        },
        {
          "output_type": "stream",
          "name": "stderr",
          "text": [
            "Setting `pad_token_id` to `eos_token_id`:50256 for open-end generation.\n"
          ]
        },
        {
          "output_type": "stream",
          "name": "stdout",
          "text": [
            "topic: sports article:Ever wondered how to have a cheap holiday in the Maldives? https://t.co/ue0GGdy99b https://t.co/s55J2MMb1i\n"
          ]
        },
        {
          "output_type": "stream",
          "name": "stderr",
          "text": [
            "Setting `pad_token_id` to `eos_token_id`:50256 for open-end generation.\n"
          ]
        },
        {
          "output_type": "stream",
          "name": "stdout",
          "text": [
            "topic: travel article:This is why the govt suspended Umrah travel. Ustaz Abu Syafiq, who has 29k followers on IG, claims he’s unvaccinated and brought unvaccinated people to Saudi. \n",
            "\n",
            "KJ / MOH aren’t stigmatizing Umrah pilgrims. There is a real behavioral problem, with many not following quarantine. https://t.co/c3Ptxg3H2D\n"
          ]
        },
        {
          "output_type": "stream",
          "name": "stderr",
          "text": [
            "Setting `pad_token_id` to `eos_token_id`:50256 for open-end generation.\n"
          ]
        },
        {
          "output_type": "stream",
          "name": "stdout",
          "text": [
            "topic: travel article:A journey is more than just getting from one point to another; it's a compilation of our fondest memories shared with those we love. \n",
            "So why not make more lovely memories? When you travel with navg travel, your experiences will be remarkable. Call us: 8285125402\n",
            "#travel #Tourism https://t.co/J3oN1fN844\n"
          ]
        },
        {
          "output_type": "stream",
          "name": "stderr",
          "text": [
            "Setting `pad_token_id` to `eos_token_id`:50256 for open-end generation.\n"
          ]
        },
        {
          "output_type": "stream",
          "name": "stdout",
          "text": [
            "topic: travel article:Demand an end to tourism cruelty! Help us end ads promoting abusive Asian elephant venues, including the cruellest peddled by numerous @ABTAtravel members. Please sign our petition: https://t.co/kGispjt6TG. https://t.co/2FYnCnxM5W\n"
          ]
        },
        {
          "output_type": "stream",
          "name": "stderr",
          "text": [
            "Setting `pad_token_id` to `eos_token_id`:50256 for open-end generation.\n"
          ]
        },
        {
          "output_type": "stream",
          "name": "stdout",
          "text": [
            "topic: travel article:Thonikadavu near Kundankuzhi in Kasaragod, is a must-visit destination for nature lovers and wildlife enthusiasts. Spread over hundreds of acres near Mulliyar Forest, its trekking trails invite you to experience the enchantment of the wilderness.\n",
            "#NatureVibes #TravelForGood https://t.co/y7ftYwP1XJ\n"
          ]
        },
        {
          "output_type": "stream",
          "name": "stderr",
          "text": [
            "Setting `pad_token_id` to `eos_token_id`:50256 for open-end generation.\n"
          ]
        },
        {
          "output_type": "stream",
          "name": "stdout",
          "text": [
            "topic: travel article:In addition to having great landmarks and unmatched #culture, #Bihar has a plethora of #delicacies to offer. #Tilkut is one such delicacy that is relished by all and holds a special significance in #MakarSankranti #celebrations.\n",
            "\n",
            "#SwadBiharKa #IncredibleIndia #BlissfulBihar https://t.co/AbgpNc5Ldb\n"
          ]
        },
        {
          "output_type": "stream",
          "name": "stderr",
          "text": [
            "Setting `pad_token_id` to `eos_token_id`:50256 for open-end generation.\n"
          ]
        },
        {
          "output_type": "stream",
          "name": "stdout",
          "text": [
            "topic: travel article:The Mayan city of Chichen Itza is full of architectural &amp; engineering marvels. But El Castillo does even more: clap your hands at the base of the stairs and the song of a sacred Mayan bird will echo through the air [source: https://t.co/lRlLZTIzyN] [more: https://t.co/d4rNpS5q8F] https://t.co/RnDgXLnvN8\n"
          ]
        },
        {
          "output_type": "stream",
          "name": "stderr",
          "text": [
            "Setting `pad_token_id` to `eos_token_id`:50256 for open-end generation.\n"
          ]
        },
        {
          "output_type": "stream",
          "name": "stdout",
          "text": [
            "topic: travel article:#Monal is considered an iconic beauty of Islamabad, and it also promotes tourism in Pakistan as everyone who visits #Islamabad also visited #Monal. #SaveMonal it’s a landmark place.\n",
            "#WeLoveMonal https://t.co/lWhCIflgyT\n"
          ]
        },
        {
          "output_type": "stream",
          "name": "stderr",
          "text": [
            "Setting `pad_token_id` to `eos_token_id`:50256 for open-end generation.\n"
          ]
        },
        {
          "output_type": "stream",
          "name": "stdout",
          "text": [
            "topic: travel article:The lord Ganesha at Ganpatipule is considered to be the Paschim Dwardevata and those visiting make it a point to pay their respects. The 400-year-old Ganpati idol at Ganpatipule is said to have sprung up from the earth. Have you visited this temple? \n",
            "Credit - photo_frreak https://t.co/X7Z0U6XNvY\n"
          ]
        },
        {
          "output_type": "stream",
          "name": "stderr",
          "text": [
            "Setting `pad_token_id` to `eos_token_id`:50256 for open-end generation.\n"
          ]
        },
        {
          "output_type": "stream",
          "name": "stdout",
          "text": [
            "topic: travel article:Agrametro\n",
            "After Kanpur ,agra metro is looking at breaking its record.60% work at depot completed within a year.1st set of ballastless tracks arrived at depot. It wil b kind of India's 1st tourism supported metro transport https://t.co/DkbQgMN2Sf\n"
          ]
        },
        {
          "output_type": "stream",
          "name": "stderr",
          "text": [
            "Setting `pad_token_id` to `eos_token_id`:50256 for open-end generation.\n"
          ]
        },
        {
          "output_type": "stream",
          "name": "stdout",
          "text": [
            "topic: travel article:Clean and luxury rooms only in 1500/night in my hotel Dalhousie Himachal Pradesh with pure veg restaurant \n",
            "\n",
            "We promote budget tourism. Do visit https://t.co/Fq2eB2AA0A\n"
          ]
        },
        {
          "output_type": "stream",
          "name": "stderr",
          "text": [
            "Setting `pad_token_id` to `eos_token_id`:50256 for open-end generation.\n"
          ]
        },
        {
          "output_type": "stream",
          "name": "stdout",
          "text": [
            "topic: travel article:Gandikota Fort in Andhra Pradesh isn't just a fort but whispers a tale of a bygone era through its architecture. \n",
            "#HeritageTourism #DekhoApnaDesh \n",
            "@Tourism_AP\n",
            "\n",
            "VC: Beema Das https://t.co/ixINtuPUIo\n"
          ]
        },
        {
          "output_type": "stream",
          "name": "stderr",
          "text": [
            "Setting `pad_token_id` to `eos_token_id`:50256 for open-end generation.\n"
          ]
        },
        {
          "output_type": "stream",
          "name": "stdout",
          "text": [
            "topic: travel article:The Ministry of Tourism (North East) pays tribute to great visionary leader, orator, nationalist #SwamiVivekananda ji on his Jayanti which is also celebrated as #NationalYouthDay. His life and ideals will always be a source of inspiration to the Indian Youth.\n",
            "#YuvaDiwas https://t.co/Wtaj7TrHKs\n"
          ]
        },
        {
          "output_type": "stream",
          "name": "stderr",
          "text": [
            "Setting `pad_token_id` to `eos_token_id`:50256 for open-end generation.\n"
          ]
        },
        {
          "output_type": "stream",
          "name": "stdout",
          "text": [
            "topic: travel article:@canmoose89 @rumandnukacola @AaronPrince411 We have immune systems that have served us well &amp; continue to serve us well without having to become a slave to Pharma. 3 shots so far. That may sound Dramatic but thats what your advocating for... Do you ever stop to think about that? Forced Vaccination to keep a job? Travel?\n"
          ]
        },
        {
          "output_type": "stream",
          "name": "stderr",
          "text": [
            "Setting `pad_token_id` to `eos_token_id`:50256 for open-end generation.\n"
          ]
        },
        {
          "output_type": "stream",
          "name": "stdout",
          "text": [
            "topic: travel article:Jimin sharing photos of his vacation is promoting tourism in South Korea's premier tourist destination Jeju Island, a UNESCO World Heritage Site.\n",
            "\n",
            "Jeju Tourism Organization is launching an event to promote tourist attractions he recently visited in the country's largest island. https://t.co/nXrPueFbeh\n"
          ]
        },
        {
          "output_type": "stream",
          "name": "stderr",
          "text": [
            "Setting `pad_token_id` to `eos_token_id`:50256 for open-end generation.\n"
          ]
        },
        {
          "output_type": "stream",
          "name": "stdout",
          "text": [
            "topic: travel article:What is happening in Murree is the future of Tourism in Gilgit-Baltistan. Unplanned, unsustainable &amp; absolute chaos in peak seasons.\n"
          ]
        },
        {
          "output_type": "stream",
          "name": "stderr",
          "text": [
            "Setting `pad_token_id` to `eos_token_id`:50256 for open-end generation.\n"
          ]
        },
        {
          "output_type": "stream",
          "name": "stdout",
          "text": [
            "topic: travel article:Since the abrogation of Article 370, Tourism is peaking in Jammu and Kashmir. \n",
            "\n",
            "Over 1.27 lakh tourists visited the region in November 2021, the highest in the last decade. https://t.co/i6vRVfkSiN\n"
          ]
        },
        {
          "output_type": "stream",
          "name": "stderr",
          "text": [
            "Setting `pad_token_id` to `eos_token_id`:50256 for open-end generation.\n"
          ]
        },
        {
          "output_type": "stream",
          "name": "stdout",
          "text": [
            "topic: travel article:Take a little time to refresh your mind with this heavenly view of #LakeToba in #NorthSumatra, captured by @saragih_erick.\n",
            "\n",
            "🎥 (IG) : @saragih_erick\n",
            "\n",
            "#WonderfulIndonesia https://t.co/HG0QUf1oZG\n"
          ]
        },
        {
          "output_type": "stream",
          "name": "stderr",
          "text": [
            "Setting `pad_token_id` to `eos_token_id`:50256 for open-end generation.\n"
          ]
        },
        {
          "output_type": "stream",
          "name": "stdout",
          "text": [
            "topic: travel article:Good move, nice, but I honestly feel PCR price has to be less than present one. Some of the resorts charging over USD 80. To sustain a better tourism, we need to address on PCR price tag. @presidencymv\n",
            "@ibusolih @faya_i @Mausoom_Maus  https://t.co/0VHLdBtKlK\n"
          ]
        },
        {
          "output_type": "stream",
          "name": "stderr",
          "text": [
            "Setting `pad_token_id` to `eos_token_id`:50256 for open-end generation.\n"
          ]
        },
        {
          "output_type": "stream",
          "name": "stdout",
          "text": [
            "topic: travel article:Checked Russian news and did not expect to see an article on Kanye planning to travel to Russia, make Russia his 2nd home, and his desire to meet Putin. Smh\n"
          ]
        },
        {
          "output_type": "stream",
          "name": "stderr",
          "text": [
            "Setting `pad_token_id` to `eos_token_id`:50256 for open-end generation.\n"
          ]
        },
        {
          "output_type": "stream",
          "name": "stdout",
          "text": [
            "topic: travel article:Good news for Skiing Lovers.\n",
            "\n",
            "Skiing courses started for the first time in Sonamarg. This will also boost the tourism sector.\n",
            "\n",
            "#Kashmir https://t.co/6DljJTeL04\n"
          ]
        },
        {
          "output_type": "stream",
          "name": "stderr",
          "text": [
            "Setting `pad_token_id` to `eos_token_id`:50256 for open-end generation.\n"
          ]
        },
        {
          "output_type": "stream",
          "name": "stdout",
          "text": [
            "topic: travel article:I think we need to be nice to Dean because it’s clear he doesn’t understand zoning.\n",
            "\n",
            "The crooked part of Lombard street is in one of the densest parts of San Francisco, with dozens of giant condo and apartment buildings in all directions — and yes, people love to visit that area. https://t.co/BmvtD7FLJf\n"
          ]
        },
        {
          "output_type": "stream",
          "name": "stderr",
          "text": [
            "Setting `pad_token_id` to `eos_token_id`:50256 for open-end generation.\n"
          ]
        },
        {
          "output_type": "stream",
          "name": "stdout",
          "text": [
            "topic: travel article:Medical tourism is a new way of discovering your support services. You want to reach a Hospital which is 3000 km away. You want to know about Best Hospitals, Good Doctors, Good hygienic facilities of Hotel, Food, Transportation. \n",
            "- Swift Services ( Medical Tourism and Care) Team\n"
          ]
        },
        {
          "output_type": "stream",
          "name": "stderr",
          "text": [
            "Setting `pad_token_id` to `eos_token_id`:50256 for open-end generation.\n"
          ]
        },
        {
          "output_type": "stream",
          "name": "stdout",
          "text": [
            "topic: travel article:@stae_elephants @lek_chailert @ftwglobal @LadyFreethinker In this day and age we don’t need animals as slaves. Thailand should invest in modern technology to facilitate the tourism. Using animals to preform unnatural tricks should be placed in history.\n"
          ]
        },
        {
          "output_type": "stream",
          "name": "stderr",
          "text": [
            "Setting `pad_token_id` to `eos_token_id`:50256 for open-end generation.\n"
          ]
        },
        {
          "output_type": "stream",
          "name": "stdout",
          "text": [
            "topic: travel article:Wego And Saudi Tourism Authority Form Strategic Partnership to Promote Tourism to Saudi - PRNewswire https://t.co/rffiOi20gI\n"
          ]
        },
        {
          "output_type": "stream",
          "name": "stderr",
          "text": [
            "Setting `pad_token_id` to `eos_token_id`:50256 for open-end generation.\n"
          ]
        },
        {
          "output_type": "stream",
          "name": "stdout",
          "text": [
            "topic: travel article:BREAKING: Flight attendants call for Biden to implement a vaccine mandate for domestic air travel, saying that it \"could genuinely save someone” because the kind of people who attack attendants are likely \"anti-vax.\" RT TO URGE BIDEN TO UNLEASH THE MANDATE!\n"
          ]
        },
        {
          "output_type": "stream",
          "name": "stderr",
          "text": [
            "Setting `pad_token_id` to `eos_token_id`:50256 for open-end generation.\n"
          ]
        },
        {
          "output_type": "stream",
          "name": "stdout",
          "text": [
            "topic: travel article:Stunning images of Gariep Dam overflowing: The past few weeks have been rainy in large parts of South Africa. Take a look at the Gariep Dam overflowing \n",
            "\n",
            "The post Stunning images of Gariep Dam… https://t.co/aoKKyCwmg4 | @GetawayMagazine #GetawayMagazine #Travel #Tourism\n"
          ]
        },
        {
          "output_type": "stream",
          "name": "stderr",
          "text": [
            "Setting `pad_token_id` to `eos_token_id`:50256 for open-end generation.\n"
          ]
        },
        {
          "output_type": "stream",
          "name": "stdout",
          "text": [
            "topic: travel article:When I’m exploring the world is when I feel most at home. Love to travel, hate to arrive https://t.co/Pj4iOxjfve\n"
          ]
        },
        {
          "output_type": "stream",
          "name": "stderr",
          "text": [
            "Setting `pad_token_id` to `eos_token_id`:50256 for open-end generation.\n"
          ]
        },
        {
          "output_type": "stream",
          "name": "stdout",
          "text": [
            "topic: travel article:https://t.co/a91P1q8hLV\n",
            "Jim Corbett National Park is the oldest national park set amidst the foothills of the Himalayas in the Nainital district of Uttarakhand.\n",
            "#india #tourism #jimcorbett #nationalpark https://t.co/BUjEnJhrz5\n"
          ]
        },
        {
          "output_type": "stream",
          "name": "stderr",
          "text": [
            "Setting `pad_token_id` to `eos_token_id`:50256 for open-end generation.\n"
          ]
        },
        {
          "output_type": "stream",
          "name": "stdout",
          "text": [
            "topic: travel article:This temple situated on big rock like Yadagirigutta telmple,this temple has more than 1000 acres of land,\n",
            "  Sir kindly check this and renovate temple,it is great asset for Telangana history and tourism\n",
            "@KTRTRS sir\n",
            "@krishanKTRS\n"
          ]
        },
        {
          "output_type": "stream",
          "name": "stderr",
          "text": [
            "Setting `pad_token_id` to `eos_token_id`:50256 for open-end generation.\n"
          ]
        },
        {
          "output_type": "stream",
          "name": "stdout",
          "text": [
            "topic: travel article:What are your 2022 Travel goals?\n",
            "\n",
            "Which place in Uganda is a must visit for you this year? https://t.co/VI7IQnmBoL\n"
          ]
        },
        {
          "output_type": "stream",
          "name": "stderr",
          "text": [
            "Setting `pad_token_id` to `eos_token_id`:50256 for open-end generation.\n"
          ]
        },
        {
          "output_type": "stream",
          "name": "stdout",
          "text": [
            "topic: travel article:The first-ever Jan Shatabdi Express, connecting Manipur and Tripura via Assam, has been flagged off. \n",
            "\n",
            "This will further improve connectivity in the Northeast and reduce travel time by 50%. https://t.co/aI8PZ93JGN\n"
          ]
        },
        {
          "output_type": "stream",
          "name": "stderr",
          "text": [
            "Setting `pad_token_id` to `eos_token_id`:50256 for open-end generation.\n"
          ]
        },
        {
          "output_type": "stream",
          "name": "stdout",
          "text": [
            "topic: lifeandstyle article:as someone who works in the tourism industry, this is something i'd want to see in my country lmfao\n",
            "\n",
            "imagine sb19 / bini doing this https://t.co/4EzfOx245D\n"
          ]
        },
        {
          "output_type": "stream",
          "name": "stderr",
          "text": [
            "Setting `pad_token_id` to `eos_token_id`:50256 for open-end generation.\n"
          ]
        },
        {
          "output_type": "stream",
          "name": "stdout",
          "text": [
            "topic: lifeandstyle article:having some authentic Italian food for dinner tonight https://t.co/2fovHfrc9i\n"
          ]
        },
        {
          "output_type": "stream",
          "name": "stderr",
          "text": [
            "Setting `pad_token_id` to `eos_token_id`:50256 for open-end generation.\n"
          ]
        },
        {
          "output_type": "stream",
          "name": "stdout",
          "text": [
            "topic: lifeandstyle article:Here’s an idea: what if there was a book that was literally just information about the Sonic characters? Like it gave you their stats, description of character history, favorite foods, etc. I think a lot of people care about the plethora of characters and it could be pretty cool! https://t.co/84svhu8la8\n"
          ]
        },
        {
          "output_type": "stream",
          "name": "stderr",
          "text": [
            "Setting `pad_token_id` to `eos_token_id`:50256 for open-end generation.\n"
          ]
        },
        {
          "output_type": "stream",
          "name": "stdout",
          "text": [
            "topic: lifeandstyle article:If you just comply a little bit longer you'll have a completely destroyed immune system and no food on the supermarket shelves. 🤡\n"
          ]
        },
        {
          "output_type": "stream",
          "name": "stderr",
          "text": [
            "Setting `pad_token_id` to `eos_token_id`:50256 for open-end generation.\n"
          ]
        },
        {
          "output_type": "stream",
          "name": "stdout",
          "text": [
            "topic: lifeandstyle article:I try not to revel in other people's angst but can't deny I am enjoying the sudden u-turn among F1 media now they realise Hamilton might leave and take food of their table.\n",
            "\n",
            "#F1xed https://t.co/8TWFdFFUIE\n"
          ]
        },
        {
          "output_type": "stream",
          "name": "stderr",
          "text": [
            "Setting `pad_token_id` to `eos_token_id`:50256 for open-end generation.\n"
          ]
        },
        {
          "output_type": "stream",
          "name": "stdout",
          "text": [
            "topic: lifeandstyle article:It was cold last night and it will be absolutely brutal tonight, so we are mounting extra relief patrols in downtown Provodence, providing food and hot drinks along with comfort and survival supplies. Thank you for making this possible! https://t.co/tE8ncaDqMr\n"
          ]
        },
        {
          "output_type": "stream",
          "name": "stderr",
          "text": [
            "Setting `pad_token_id` to `eos_token_id`:50256 for open-end generation.\n"
          ]
        },
        {
          "output_type": "stream",
          "name": "stdout",
          "text": [
            "topic: lifeandstyle article:Thankful for the growth Twitter has gotten my brand and showing the world I make amazing meals at affordable prices.We sell 1500 packs daily,would love everyone to help me push it to 2000 packs daily this year 2022.The price of our meals remains N1000. 08034092653 and DM is open. https://t.co/kqLKNcTs2Z\n"
          ]
        },
        {
          "output_type": "stream",
          "name": "stderr",
          "text": [
            "Setting `pad_token_id` to `eos_token_id`:50256 for open-end generation.\n"
          ]
        },
        {
          "output_type": "stream",
          "name": "stdout",
          "text": [
            "topic: lifeandstyle article:Would you throw some Catfish on top of a salad? https://t.co/Yo48N3uq1J\n"
          ]
        },
        {
          "output_type": "stream",
          "name": "stderr",
          "text": [
            "Setting `pad_token_id` to `eos_token_id`:50256 for open-end generation.\n"
          ]
        },
        {
          "output_type": "stream",
          "name": "stdout",
          "text": [
            "topic: lifeandstyle article:Tak boleh move on with this Garlic Butter Baked Lobster 😭😭👍🏻\n",
            "\n",
            "💴 Rm299\n",
            "📌 Delay No More Crab, IOI City Mall Putrajaya https://t.co/MfKAWRg53A\n"
          ]
        },
        {
          "output_type": "stream",
          "name": "stderr",
          "text": [
            "Setting `pad_token_id` to `eos_token_id`:50256 for open-end generation.\n"
          ]
        },
        {
          "output_type": "stream",
          "name": "stdout",
          "text": [
            "topic: lifeandstyle article:For some reason, food tastes better when it’s somebody‘s treat. https://t.co/RmBAoWrgZg\n"
          ]
        },
        {
          "output_type": "stream",
          "name": "stderr",
          "text": [
            "Setting `pad_token_id` to `eos_token_id`:50256 for open-end generation.\n"
          ]
        },
        {
          "output_type": "stream",
          "name": "stdout",
          "text": [
            "topic: lifeandstyle article:Kfry always serve the best cheesy fried chicken!\n",
            "\n",
            "I first time try mango bingsoo and it was soo good. Tapi i lagi suka strawberry cheesecake bingsoo la. The ramens also sedappp 🤍 https://t.co/IFhyAuB4fj\n"
          ]
        },
        {
          "output_type": "stream",
          "name": "stderr",
          "text": [
            "Setting `pad_token_id` to `eos_token_id`:50256 for open-end generation.\n"
          ]
        },
        {
          "output_type": "stream",
          "name": "stdout",
          "text": [
            "topic: lifeandstyle article:Street Pizza are bringing the heat !! @GordonRamsayGRR https://t.co/V78QnsCVHE\n"
          ]
        },
        {
          "output_type": "stream",
          "name": "stderr",
          "text": [
            "Setting `pad_token_id` to `eos_token_id`:50256 for open-end generation.\n"
          ]
        },
        {
          "output_type": "stream",
          "name": "stdout",
          "text": [
            "topic: lifeandstyle article:NEW: A survey of 10,000 Kroger supermarket workers reveals that 2/3 of employees are living in poverty and struggling to survive.\n",
            "\n",
            "The grocery company's CEO made $20 million in 2021.\n",
            "\n",
            "Meanwhile, 40% of workers can’t afford food and 14% have been homeless in the last year. https://t.co/a5g3FGjN2v\n"
          ]
        },
        {
          "output_type": "stream",
          "name": "stderr",
          "text": [
            "Setting `pad_token_id` to `eos_token_id`:50256 for open-end generation.\n"
          ]
        },
        {
          "output_type": "stream",
          "name": "stdout",
          "text": [
            "topic: lifeandstyle article:why eat everyday supermarket food when you can FINANCE A HAM FROM MONTGOMERY WARD? https://t.co/k9yzztztLn\n"
          ]
        },
        {
          "output_type": "stream",
          "name": "stderr",
          "text": [
            "Setting `pad_token_id` to `eos_token_id`:50256 for open-end generation.\n"
          ]
        },
        {
          "output_type": "stream",
          "name": "stdout",
          "text": [
            "topic: lifeandstyle article:The lack of food on supermarket shelves is a direct result of Mr Morrison’s failures.\n",
            "\n",
            "The scale of this stuff up is so big, and the consequences for ordinary Australians so bad, but once again Mr Morrison has gone missing when workers and small businesses need him most. https://t.co/qGtWmyrIK5\n"
          ]
        },
        {
          "output_type": "stream",
          "name": "stderr",
          "text": [
            "Setting `pad_token_id` to `eos_token_id`:50256 for open-end generation.\n"
          ]
        },
        {
          "output_type": "stream",
          "name": "stdout",
          "text": [
            "topic: lifeandstyle article:Welcome to 2022. \n",
            "\n",
            "Your grocery stores might not have all the food, but your pharmacies have the vaccine and all the boosters. https://t.co/KHnWCSEXGV\n"
          ]
        },
        {
          "output_type": "stream",
          "name": "stderr",
          "text": [
            "Setting `pad_token_id` to `eos_token_id`:50256 for open-end generation.\n"
          ]
        },
        {
          "output_type": "stream",
          "name": "stdout",
          "text": [
            "topic: lifeandstyle article:food always tastes better with pretty presentation https://t.co/VlCiLDsLY0\n"
          ]
        },
        {
          "output_type": "stream",
          "name": "stderr",
          "text": [
            "Setting `pad_token_id` to `eos_token_id`:50256 for open-end generation.\n"
          ]
        },
        {
          "output_type": "stream",
          "name": "stdout",
          "text": [
            "topic: lifeandstyle article:VP Kamala Harris opening for President Biden in Atlanta: \"There is nothing normal about a law that makes it illegal to pass out water or food to people standing in long voting lines.\" https://t.co/wEcfNOIiw9\n"
          ]
        },
        {
          "output_type": "stream",
          "name": "stderr",
          "text": [
            "Setting `pad_token_id` to `eos_token_id`:50256 for open-end generation.\n"
          ]
        },
        {
          "output_type": "stream",
          "name": "stdout",
          "text": [
            "topic: lifeandstyle article:The average jar of peanut butter may contain 4 or more rodent hairs.\n",
            "\n",
            "The Food and Drug Administration confirmed it: a jar of peanut butter is allowed to contain one or more rodent hairs, and an average of 30 or more insect fragments per 100 grams before it is considered to be(1)\n"
          ]
        },
        {
          "output_type": "stream",
          "name": "stderr",
          "text": [
            "Setting `pad_token_id` to `eos_token_id`:50256 for open-end generation.\n"
          ]
        },
        {
          "output_type": "stream",
          "name": "stdout",
          "text": [
            "topic: lifeandstyle article:When this is over, let’s remember that it wasn’t the CEOs and billionaires who saved us. It was the janitors, nurses, grocery, and food workers.\n"
          ]
        },
        {
          "output_type": "stream",
          "name": "stderr",
          "text": [
            "Setting `pad_token_id` to `eos_token_id`:50256 for open-end generation.\n"
          ]
        },
        {
          "output_type": "stream",
          "name": "stdout",
          "text": [
            "topic: lifeandstyle article:throwback to one of sangyeon's vlives before and his good news 🤣\n",
            "\n",
            "💭 everyone, i have a good news. i have very good news! 👏👏👏👏 that good news is.............. my food has arrived. my food has finally arrived! https://t.co/jhueV1mo78\n"
          ]
        },
        {
          "output_type": "stream",
          "name": "stderr",
          "text": [
            "Setting `pad_token_id` to `eos_token_id`:50256 for open-end generation.\n"
          ]
        },
        {
          "output_type": "stream",
          "name": "stdout",
          "text": [
            "topic: lifeandstyle article:Georgia Republicans cut # of drop boxes in Atlanta from 111 to 23, banned giving voters food &amp; water in line, gave voters less time to request/return mail ballots &amp; taking over local election boards. Yet Mitch McConnell says no GOP state legislatures are suppressing votes\n"
          ]
        },
        {
          "output_type": "stream",
          "name": "stderr",
          "text": [
            "Setting `pad_token_id` to `eos_token_id`:50256 for open-end generation.\n"
          ]
        },
        {
          "output_type": "stream",
          "name": "stdout",
          "text": [
            "topic: lifeandstyle article:“Making it illegal to give your neighbor food or drink when they’re standing in line to vote? What the hell-heck are we talking about?”\n",
            "-⁦@POTUS⁩ Biden https://t.co/TDv3FP7ncQ\n"
          ]
        },
        {
          "output_type": "stream",
          "name": "stderr",
          "text": [
            "Setting `pad_token_id` to `eos_token_id`:50256 for open-end generation.\n"
          ]
        },
        {
          "output_type": "stream",
          "name": "stdout",
          "text": [
            "topic: lifeandstyle article:smoothie bowl Saturday🌱🍓🥑💙 https://t.co/mCC2dWRiNC\n"
          ]
        },
        {
          "output_type": "stream",
          "name": "stderr",
          "text": [
            "Setting `pad_token_id` to `eos_token_id`:50256 for open-end generation.\n"
          ]
        },
        {
          "output_type": "stream",
          "name": "stdout",
          "text": [
            "topic: lifeandstyle article:The summary of the answers of Kyungsoo is wishing for himself, people around, and EXO-Ls to be happy and healthy. He also wants to travel and eat good food on his birthday 🥺 https://t.co/rWxeLMyfKs\n"
          ]
        },
        {
          "output_type": "stream",
          "name": "stderr",
          "text": [
            "Setting `pad_token_id` to `eos_token_id`:50256 for open-end generation.\n"
          ]
        },
        {
          "output_type": "stream",
          "name": "stdout",
          "text": [
            "topic: lifeandstyle article:Yay! I have received my new fridge!\n",
            "Finish the spoil foods and the water spills!\n",
            "I am sooo happy!!!! https://t.co/lIhEtz0aOw\n"
          ]
        },
        {
          "output_type": "stream",
          "name": "stderr",
          "text": [
            "Setting `pad_token_id` to `eos_token_id`:50256 for open-end generation.\n"
          ]
        },
        {
          "output_type": "stream",
          "name": "stdout",
          "text": [
            "topic: lifeandstyle article:i want skin to skin cuddling, holding hands, taking showers together, thigh rubs during car rides, smiling in between kisses, sitting next to each other on food dates, praying together, traveling together, play fighting, constant laughter and shared goofiness\n"
          ]
        },
        {
          "output_type": "stream",
          "name": "stderr",
          "text": [
            "Setting `pad_token_id` to `eos_token_id`:50256 for open-end generation.\n"
          ]
        },
        {
          "output_type": "stream",
          "name": "stdout",
          "text": [
            "topic: lifeandstyle article:food shrimps baby!!! https://t.co/Vgrc4i2UDS\n"
          ]
        },
        {
          "output_type": "stream",
          "name": "stderr",
          "text": [
            "Setting `pad_token_id` to `eos_token_id`:50256 for open-end generation.\n"
          ]
        },
        {
          "output_type": "stream",
          "name": "stdout",
          "text": [
            "topic: lifeandstyle article:Seungwoo's foods are very healthy 😃 https://t.co/wrgQyZyCjw\n"
          ]
        },
        {
          "output_type": "stream",
          "name": "stderr",
          "text": [
            "Setting `pad_token_id` to `eos_token_id`:50256 for open-end generation.\n"
          ]
        },
        {
          "output_type": "stream",
          "name": "stdout",
          "text": [
            "topic: lifeandstyle article:The lady who calls you a conspiracy theorist for having emergency food kits is shoving her child in the trunk of the car that has a 'Trust Science' bumper sticker\n"
          ]
        },
        {
          "output_type": "stream",
          "name": "stderr",
          "text": [
            "Setting `pad_token_id` to `eos_token_id`:50256 for open-end generation.\n"
          ]
        },
        {
          "output_type": "stream",
          "name": "stdout",
          "text": [
            "topic: lifeandstyle article:Friend just told me her daughter got fired from her fast food job for refusing to come to work while COVID positive.\n"
          ]
        },
        {
          "output_type": "stream",
          "name": "stderr",
          "text": [
            "Setting `pad_token_id` to `eos_token_id`:50256 for open-end generation.\n"
          ]
        },
        {
          "output_type": "stream",
          "name": "stdout",
          "text": [
            "topic: lifeandstyle article:While I did put the Steelers as losing their first playoff game this year, I've seen this team do some incredible things over the years. I don't doubt that you'll put up a good fight! https://t.co/Fx6XvD5B1L\n"
          ]
        },
        {
          "output_type": "stream",
          "name": "stderr",
          "text": [
            "Setting `pad_token_id` to `eos_token_id`:50256 for open-end generation.\n"
          ]
        },
        {
          "output_type": "stream",
          "name": "stdout",
          "text": [
            "topic: lifeandstyle article:According to @BajwaKehtaHaii, Quetta Gladiators will use reserved Supplementary Round pick for Shimron Hetmyer. He's currently a replacement for Jason Roy. Once Roy is back and if Hetmyer isn't named in squad vs India, he'll be picked and made available for full season. #PSL2022\n"
          ]
        },
        {
          "output_type": "stream",
          "name": "stderr",
          "text": [
            "Setting `pad_token_id` to `eos_token_id`:50256 for open-end generation.\n"
          ]
        },
        {
          "output_type": "stream",
          "name": "stdout",
          "text": [
            "topic: lifeandstyle article:Barça are interested in Lisandro Martinez. Last summer, they offered a loan deal with an option to buy, but Ajax refused. Xavi really likes his profile, and the player has a verbal agreement with the Dutch club to leave if an important offer arrives.\n",
            "\n",
            "— @tuttosport via @sport https://t.co/pgjmEsRSVL\n"
          ]
        },
        {
          "output_type": "stream",
          "name": "stderr",
          "text": [
            "Setting `pad_token_id` to `eos_token_id`:50256 for open-end generation.\n"
          ]
        },
        {
          "output_type": "stream",
          "name": "stdout",
          "text": [
            "topic: lifeandstyle article:@jessie_jjp @the_eskimo_spy Good or great you just changed it. I could name a bunch of coaches that won with good QBs. Belichick only won consistently because he had the greatest player ever on his roster for 20 years.\n"
          ]
        },
        {
          "output_type": "stream",
          "name": "stderr",
          "text": [
            "Setting `pad_token_id` to `eos_token_id`:50256 for open-end generation.\n"
          ]
        },
        {
          "output_type": "stream",
          "name": "stdout",
          "text": [
            "topic: lifeandstyle article:Thank you for the shout out! @joefav @RachelRJacobson Some incredible names to be along side doing some big things in the world of sports. Going to be a fun year ahead! https://t.co/ddcyZ4vo7P\n"
          ]
        },
        {
          "output_type": "stream",
          "name": "stderr",
          "text": [
            "Setting `pad_token_id` to `eos_token_id`:50256 for open-end generation.\n"
          ]
        },
        {
          "output_type": "stream",
          "name": "stdout",
          "text": [
            "topic: lifeandstyle article:A former #Titans assistant is a candidate for one #NFL team currently looking for a head coach. \n",
            "https://t.co/sOl64ceQRw https://t.co/4UVIDyFxiF\n"
          ]
        },
        {
          "output_type": "stream",
          "name": "stderr",
          "text": [
            "Setting `pad_token_id` to `eos_token_id`:50256 for open-end generation.\n"
          ]
        },
        {
          "output_type": "stream",
          "name": "stdout",
          "text": [
            "topic: lifeandstyle article:Major League Baseball and the MLB Players Association plan to hold a bargaining session Thursday, sources tell ESPN. MLB is expected to make a core-economics proposal at the session, which would be the first between the sides since the league locked out the players on Dec. 2.\n"
          ]
        },
        {
          "output_type": "stream",
          "name": "stderr",
          "text": [
            "Setting `pad_token_id` to `eos_token_id`:50256 for open-end generation.\n"
          ]
        },
        {
          "output_type": "stream",
          "name": "stdout",
          "text": [
            "topic: lifeandstyle article:\"These are challenging conditions, not easy conditions to score runs in, but you are right, we are below par\"\n",
            "\n",
            "— Batting coach Vikram Rathour on India's first innings performance at Cape Town. #SAvIND  \n",
            "\n",
            "https://t.co/MQlmdr62l5\n"
          ]
        },
        {
          "output_type": "stream",
          "name": "stderr",
          "text": [
            "Setting `pad_token_id` to `eos_token_id`:50256 for open-end generation.\n"
          ]
        },
        {
          "output_type": "stream",
          "name": "stdout",
          "text": [
            "topic: lifeandstyle article:Frank Reich says he has been more critical and coached Carson Wentz harder this year than he did in his first two years together in Philly\n",
            "\n",
            " https://t.co/efvgE3c281\n"
          ]
        },
        {
          "output_type": "stream",
          "name": "stderr",
          "text": [
            "Setting `pad_token_id` to `eos_token_id`:50256 for open-end generation.\n"
          ]
        },
        {
          "output_type": "stream",
          "name": "stdout",
          "text": [
            "topic: lifeandstyle article:The purpose of this exercise is to highlight and perhaps recognize the contribution of a player who has half of his finest knocks which were bettered by some or the other player. But I guess that was Dravid, just a team player! \n",
            "#HappyBirthdayRahulDravid \n",
            "\n",
            "📷: NDTV Sports https://t.co/xw37rnUKbp\n"
          ]
        },
        {
          "output_type": "stream",
          "name": "stderr",
          "text": [
            "Setting `pad_token_id` to `eos_token_id`:50256 for open-end generation.\n"
          ]
        },
        {
          "output_type": "stream",
          "name": "stdout",
          "text": [
            "topic: lifeandstyle article:@LundgaardK @inteuder @sportspredicttt @DatChiSportsGuy @SteelersFan11 @AlbertBreer That's a great narrative, Bill's done nothing without the QB \n",
            "\n",
            "He was a loser before Brady took over and he's been completely mediocre since Brady left \n",
            "\n",
            "In between they had the greatest dynasty in sports history \n",
            "\n",
            "Gee, what changed?\n"
          ]
        },
        {
          "output_type": "stream",
          "name": "stderr",
          "text": [
            "Setting `pad_token_id` to `eos_token_id`:50256 for open-end generation.\n"
          ]
        },
        {
          "output_type": "stream",
          "name": "stdout",
          "text": [
            "topic: lifeandstyle article:Cooper Whipkey fueled a second-half scoring eruption from the Mackinaw City boys, who pulled away for a 71-49 home victory over Harbor Light on Tuesday. Whipkey finished with 22 points, including 17 in the fourth quarter. https://t.co/d8EeJElie1 https://t.co/pfYXePj5l7\n"
          ]
        },
        {
          "output_type": "stream",
          "name": "stderr",
          "text": [
            "Setting `pad_token_id` to `eos_token_id`:50256 for open-end generation.\n"
          ]
        },
        {
          "output_type": "stream",
          "name": "stdout",
          "text": [
            "topic: lifeandstyle article:Any male tennis stars and bureaucrats want to show us they are not spoilt brats and support vaccinations and safety and what’s right over money?\n"
          ]
        },
        {
          "output_type": "stream",
          "name": "stderr",
          "text": [
            "Setting `pad_token_id` to `eos_token_id`:50256 for open-end generation.\n"
          ]
        },
        {
          "output_type": "stream",
          "name": "stdout",
          "text": [
            "topic: lifeandstyle article:“Djokovic applied for a medical exemption which was granted following a rigorous review process involving two separate independent panels of medical experts.” \n",
            "Tennis Australia's statement is ageing well. Once you see the words \"rigorous, review process\", you worry.\n"
          ]
        },
        {
          "output_type": "error",
          "ename": "KeyboardInterrupt",
          "evalue": "ignored",
          "traceback": [
            "\u001b[0;31m---------------------------------------------------------------------------\u001b[0m",
            "\u001b[0;31mKeyboardInterrupt\u001b[0m                         Traceback (most recent call last)",
            "\u001b[0;32m<ipython-input-40-c2d96566005f>\u001b[0m in \u001b[0;36m<module>\u001b[0;34m()\u001b[0m\n\u001b[1;32m     20\u001b[0m     \u001b[0mearly_stopping\u001b[0m\u001b[0;34m=\u001b[0m\u001b[0;32mTrue\u001b[0m\u001b[0;34m,\u001b[0m\u001b[0;34m\u001b[0m\u001b[0;34m\u001b[0m\u001b[0m\n\u001b[1;32m     21\u001b[0m     \u001b[0mtemperature\u001b[0m\u001b[0;34m=\u001b[0m \u001b[0;36m0.70\u001b[0m\u001b[0;34m,\u001b[0m\u001b[0;34m\u001b[0m\u001b[0;34m\u001b[0m\u001b[0m\n\u001b[0;32m---> 22\u001b[0;31m     \u001b[0mnum_return_sequences\u001b[0m\u001b[0;34m=\u001b[0m\u001b[0;36m1\u001b[0m\u001b[0;34m\u001b[0m\u001b[0;34m\u001b[0m\u001b[0m\n\u001b[0m\u001b[1;32m     23\u001b[0m     )\n\u001b[1;32m     24\u001b[0m \u001b[0;34m\u001b[0m\u001b[0m\n",
            "\u001b[0;32m/usr/local/lib/python3.7/dist-packages/torch/autograd/grad_mode.py\u001b[0m in \u001b[0;36mdecorate_context\u001b[0;34m(*args, **kwargs)\u001b[0m\n\u001b[1;32m     26\u001b[0m         \u001b[0;32mdef\u001b[0m \u001b[0mdecorate_context\u001b[0m\u001b[0;34m(\u001b[0m\u001b[0;34m*\u001b[0m\u001b[0margs\u001b[0m\u001b[0;34m,\u001b[0m \u001b[0;34m**\u001b[0m\u001b[0mkwargs\u001b[0m\u001b[0;34m)\u001b[0m\u001b[0;34m:\u001b[0m\u001b[0;34m\u001b[0m\u001b[0;34m\u001b[0m\u001b[0m\n\u001b[1;32m     27\u001b[0m             \u001b[0;32mwith\u001b[0m \u001b[0mself\u001b[0m\u001b[0;34m.\u001b[0m\u001b[0m__class__\u001b[0m\u001b[0;34m(\u001b[0m\u001b[0;34m)\u001b[0m\u001b[0;34m:\u001b[0m\u001b[0;34m\u001b[0m\u001b[0;34m\u001b[0m\u001b[0m\n\u001b[0;32m---> 28\u001b[0;31m                 \u001b[0;32mreturn\u001b[0m \u001b[0mfunc\u001b[0m\u001b[0;34m(\u001b[0m\u001b[0;34m*\u001b[0m\u001b[0margs\u001b[0m\u001b[0;34m,\u001b[0m \u001b[0;34m**\u001b[0m\u001b[0mkwargs\u001b[0m\u001b[0;34m)\u001b[0m\u001b[0;34m\u001b[0m\u001b[0;34m\u001b[0m\u001b[0m\n\u001b[0m\u001b[1;32m     29\u001b[0m         \u001b[0;32mreturn\u001b[0m \u001b[0mcast\u001b[0m\u001b[0;34m(\u001b[0m\u001b[0mF\u001b[0m\u001b[0;34m,\u001b[0m \u001b[0mdecorate_context\u001b[0m\u001b[0;34m)\u001b[0m\u001b[0;34m\u001b[0m\u001b[0;34m\u001b[0m\u001b[0m\n\u001b[1;32m     30\u001b[0m \u001b[0;34m\u001b[0m\u001b[0m\n",
            "\u001b[0;32m/usr/local/lib/python3.7/dist-packages/transformers/generation_utils.py\u001b[0m in \u001b[0;36mgenerate\u001b[0;34m(self, inputs, max_length, min_length, do_sample, early_stopping, num_beams, temperature, top_k, top_p, repetition_penalty, bad_words_ids, bos_token_id, pad_token_id, eos_token_id, length_penalty, no_repeat_ngram_size, encoder_no_repeat_ngram_size, num_return_sequences, max_time, max_new_tokens, decoder_start_token_id, use_cache, num_beam_groups, diversity_penalty, prefix_allowed_tokens_fn, logits_processor, stopping_criteria, output_attentions, output_hidden_states, output_scores, return_dict_in_generate, forced_bos_token_id, forced_eos_token_id, remove_invalid_values, synced_gpus, **model_kwargs)\u001b[0m\n\u001b[1;32m   1144\u001b[0m                 \u001b[0mreturn_dict_in_generate\u001b[0m\u001b[0;34m=\u001b[0m\u001b[0mreturn_dict_in_generate\u001b[0m\u001b[0;34m,\u001b[0m\u001b[0;34m\u001b[0m\u001b[0;34m\u001b[0m\u001b[0m\n\u001b[1;32m   1145\u001b[0m                 \u001b[0msynced_gpus\u001b[0m\u001b[0;34m=\u001b[0m\u001b[0msynced_gpus\u001b[0m\u001b[0;34m,\u001b[0m\u001b[0;34m\u001b[0m\u001b[0;34m\u001b[0m\u001b[0m\n\u001b[0;32m-> 1146\u001b[0;31m                 \u001b[0;34m**\u001b[0m\u001b[0mmodel_kwargs\u001b[0m\u001b[0;34m,\u001b[0m\u001b[0;34m\u001b[0m\u001b[0;34m\u001b[0m\u001b[0m\n\u001b[0m\u001b[1;32m   1147\u001b[0m             )\n\u001b[1;32m   1148\u001b[0m \u001b[0;34m\u001b[0m\u001b[0m\n",
            "\u001b[0;32m/usr/local/lib/python3.7/dist-packages/transformers/generation_utils.py\u001b[0m in \u001b[0;36msample\u001b[0;34m(self, input_ids, logits_processor, stopping_criteria, logits_warper, max_length, pad_token_id, eos_token_id, output_attentions, output_hidden_states, output_scores, return_dict_in_generate, synced_gpus, **model_kwargs)\u001b[0m\n\u001b[1;32m   1681\u001b[0m             \u001b[0;31m# sample\u001b[0m\u001b[0;34m\u001b[0m\u001b[0;34m\u001b[0m\u001b[0;34m\u001b[0m\u001b[0m\n\u001b[1;32m   1682\u001b[0m             \u001b[0mprobs\u001b[0m \u001b[0;34m=\u001b[0m \u001b[0mnn\u001b[0m\u001b[0;34m.\u001b[0m\u001b[0mfunctional\u001b[0m\u001b[0;34m.\u001b[0m\u001b[0msoftmax\u001b[0m\u001b[0;34m(\u001b[0m\u001b[0mnext_token_scores\u001b[0m\u001b[0;34m,\u001b[0m \u001b[0mdim\u001b[0m\u001b[0;34m=\u001b[0m\u001b[0;34m-\u001b[0m\u001b[0;36m1\u001b[0m\u001b[0;34m)\u001b[0m\u001b[0;34m\u001b[0m\u001b[0;34m\u001b[0m\u001b[0m\n\u001b[0;32m-> 1683\u001b[0;31m             \u001b[0mnext_tokens\u001b[0m \u001b[0;34m=\u001b[0m \u001b[0mtorch\u001b[0m\u001b[0;34m.\u001b[0m\u001b[0mmultinomial\u001b[0m\u001b[0;34m(\u001b[0m\u001b[0mprobs\u001b[0m\u001b[0;34m,\u001b[0m \u001b[0mnum_samples\u001b[0m\u001b[0;34m=\u001b[0m\u001b[0;36m1\u001b[0m\u001b[0;34m)\u001b[0m\u001b[0;34m.\u001b[0m\u001b[0msqueeze\u001b[0m\u001b[0;34m(\u001b[0m\u001b[0;36m1\u001b[0m\u001b[0;34m)\u001b[0m\u001b[0;34m\u001b[0m\u001b[0;34m\u001b[0m\u001b[0m\n\u001b[0m\u001b[1;32m   1684\u001b[0m \u001b[0;34m\u001b[0m\u001b[0m\n\u001b[1;32m   1685\u001b[0m             \u001b[0;31m# finished sentences should have their next token be a padding token\u001b[0m\u001b[0;34m\u001b[0m\u001b[0;34m\u001b[0m\u001b[0;34m\u001b[0m\u001b[0m\n",
            "\u001b[0;31mKeyboardInterrupt\u001b[0m: "
          ]
        }
      ]
    },
    {
      "cell_type": "code",
      "source": [
        ""
      ],
      "metadata": {
        "id": "1sl5MEgkkrnh"
      },
      "execution_count": null,
      "outputs": []
    }
  ]
}